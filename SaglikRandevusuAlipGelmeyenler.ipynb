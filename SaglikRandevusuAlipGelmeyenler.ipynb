{
  "nbformat": 4,
  "nbformat_minor": 0,
  "metadata": {
    "colab": {
      "provenance": []
    },
    "kernelspec": {
      "name": "python3",
      "display_name": "Python 3"
    },
    "language_info": {
      "name": "python"
    }
  },
  "cells": [
    {
      "cell_type": "markdown",
      "source": [
        "# ***Randevu Katılım Tahmini: Sağlıkta Veri Analitiği ve Makine Öğrenimi Uygulaması***\n",
        "\n",
        "\n",
        "\n",
        "\n",
        "\n"
      ],
      "metadata": {
        "id": "ieTH9RPCsC8-"
      }
    },
    {
      "cell_type": "markdown",
      "source": [
        "# ***VERİ SETİNİN SAYFAYA DAHİL EDİLMESİ***"
      ],
      "metadata": {
        "id": "KJ7gWXIKnkNa"
      }
    },
    {
      "cell_type": "code",
      "execution_count": 1,
      "metadata": {
        "id": "ZIex6f1om85c"
      },
      "outputs": [],
      "source": [
        "import numpy as np\n",
        "import pandas as pd\n",
        "import matplotlib.pyplot as plt\n",
        "import seaborn as sns\n",
        "import scipy.stats as stats\n",
        "from scipy.stats import shapiro\n",
        "import statsmodels.api as sm\n",
        "from scipy.stats import ttest_ind\n",
        "from scipy.stats import chi2_contingency\n",
        "import time\n",
        "from sklearn.model_selection import GridSearchCV\n",
        "from sklearn.model_selection import train_test_split\n",
        "from sklearn.metrics import accuracy_score, precision_score, recall_score, f1_score, confusion_matrix, roc_auc_score, log_loss\n",
        "from sklearn.preprocessing import StandardScaler\n",
        "from sklearn.linear_model import LogisticRegression\n",
        "from sklearn.tree import DecisionTreeClassifier\n",
        "from sklearn.ensemble import RandomForestClassifier\n",
        "import warnings\n",
        "warnings.filterwarnings(\"ignore\")"
      ]
    },
    {
      "cell_type": "code",
      "source": [
        "dfC = pd.read_csv(\"healthcare_noshows.csv\")"
      ],
      "metadata": {
        "id": "O2cug3S7nUmd"
      },
      "execution_count": 2,
      "outputs": []
    },
    {
      "cell_type": "code",
      "source": [
        "df = dfC.copy()"
      ],
      "metadata": {
        "id": "EmQxdcfDnfd_"
      },
      "execution_count": 3,
      "outputs": []
    },
    {
      "cell_type": "code",
      "source": [
        "df.head(3)"
      ],
      "metadata": {
        "colab": {
          "base_uri": "https://localhost:8080/",
          "height": 215
        },
        "id": "X31WgHl4nhhq",
        "outputId": "d8999f43-62f8-466b-ace9-629f2b328baa"
      },
      "execution_count": 4,
      "outputs": [
        {
          "output_type": "execute_result",
          "data": {
            "text/plain": [
              "      PatientId  AppointmentID Gender ScheduledDay AppointmentDay  Age  \\\n",
              "0  2.987250e+13        5642903      F   2016-04-29     2016-04-29   62   \n",
              "1  5.589978e+14        5642503      M   2016-04-29     2016-04-29   56   \n",
              "2  4.262962e+12        5642549      F   2016-04-29     2016-04-29   62   \n",
              "\n",
              "     Neighbourhood  Scholarship  Hipertension  Diabetes  Alcoholism  Handcap  \\\n",
              "0  JARDIM DA PENHA        False          True     False       False    False   \n",
              "1  JARDIM DA PENHA        False         False     False       False    False   \n",
              "2    MATA DA PRAIA        False         False     False       False    False   \n",
              "\n",
              "   SMS_received  Showed_up  Date.diff  \n",
              "0         False       True          0  \n",
              "1         False       True          0  \n",
              "2         False       True          0  "
            ],
            "text/html": [
              "\n",
              "  <div id=\"df-7ad6431e-410a-4681-8b2f-a8d04cfb03a2\" class=\"colab-df-container\">\n",
              "    <div>\n",
              "<style scoped>\n",
              "    .dataframe tbody tr th:only-of-type {\n",
              "        vertical-align: middle;\n",
              "    }\n",
              "\n",
              "    .dataframe tbody tr th {\n",
              "        vertical-align: top;\n",
              "    }\n",
              "\n",
              "    .dataframe thead th {\n",
              "        text-align: right;\n",
              "    }\n",
              "</style>\n",
              "<table border=\"1\" class=\"dataframe\">\n",
              "  <thead>\n",
              "    <tr style=\"text-align: right;\">\n",
              "      <th></th>\n",
              "      <th>PatientId</th>\n",
              "      <th>AppointmentID</th>\n",
              "      <th>Gender</th>\n",
              "      <th>ScheduledDay</th>\n",
              "      <th>AppointmentDay</th>\n",
              "      <th>Age</th>\n",
              "      <th>Neighbourhood</th>\n",
              "      <th>Scholarship</th>\n",
              "      <th>Hipertension</th>\n",
              "      <th>Diabetes</th>\n",
              "      <th>Alcoholism</th>\n",
              "      <th>Handcap</th>\n",
              "      <th>SMS_received</th>\n",
              "      <th>Showed_up</th>\n",
              "      <th>Date.diff</th>\n",
              "    </tr>\n",
              "  </thead>\n",
              "  <tbody>\n",
              "    <tr>\n",
              "      <th>0</th>\n",
              "      <td>2.987250e+13</td>\n",
              "      <td>5642903</td>\n",
              "      <td>F</td>\n",
              "      <td>2016-04-29</td>\n",
              "      <td>2016-04-29</td>\n",
              "      <td>62</td>\n",
              "      <td>JARDIM DA PENHA</td>\n",
              "      <td>False</td>\n",
              "      <td>True</td>\n",
              "      <td>False</td>\n",
              "      <td>False</td>\n",
              "      <td>False</td>\n",
              "      <td>False</td>\n",
              "      <td>True</td>\n",
              "      <td>0</td>\n",
              "    </tr>\n",
              "    <tr>\n",
              "      <th>1</th>\n",
              "      <td>5.589978e+14</td>\n",
              "      <td>5642503</td>\n",
              "      <td>M</td>\n",
              "      <td>2016-04-29</td>\n",
              "      <td>2016-04-29</td>\n",
              "      <td>56</td>\n",
              "      <td>JARDIM DA PENHA</td>\n",
              "      <td>False</td>\n",
              "      <td>False</td>\n",
              "      <td>False</td>\n",
              "      <td>False</td>\n",
              "      <td>False</td>\n",
              "      <td>False</td>\n",
              "      <td>True</td>\n",
              "      <td>0</td>\n",
              "    </tr>\n",
              "    <tr>\n",
              "      <th>2</th>\n",
              "      <td>4.262962e+12</td>\n",
              "      <td>5642549</td>\n",
              "      <td>F</td>\n",
              "      <td>2016-04-29</td>\n",
              "      <td>2016-04-29</td>\n",
              "      <td>62</td>\n",
              "      <td>MATA DA PRAIA</td>\n",
              "      <td>False</td>\n",
              "      <td>False</td>\n",
              "      <td>False</td>\n",
              "      <td>False</td>\n",
              "      <td>False</td>\n",
              "      <td>False</td>\n",
              "      <td>True</td>\n",
              "      <td>0</td>\n",
              "    </tr>\n",
              "  </tbody>\n",
              "</table>\n",
              "</div>\n",
              "    <div class=\"colab-df-buttons\">\n",
              "\n",
              "  <div class=\"colab-df-container\">\n",
              "    <button class=\"colab-df-convert\" onclick=\"convertToInteractive('df-7ad6431e-410a-4681-8b2f-a8d04cfb03a2')\"\n",
              "            title=\"Convert this dataframe to an interactive table.\"\n",
              "            style=\"display:none;\">\n",
              "\n",
              "  <svg xmlns=\"http://www.w3.org/2000/svg\" height=\"24px\" viewBox=\"0 -960 960 960\">\n",
              "    <path d=\"M120-120v-720h720v720H120Zm60-500h600v-160H180v160Zm220 220h160v-160H400v160Zm0 220h160v-160H400v160ZM180-400h160v-160H180v160Zm440 0h160v-160H620v160ZM180-180h160v-160H180v160Zm440 0h160v-160H620v160Z\"/>\n",
              "  </svg>\n",
              "    </button>\n",
              "\n",
              "  <style>\n",
              "    .colab-df-container {\n",
              "      display:flex;\n",
              "      gap: 12px;\n",
              "    }\n",
              "\n",
              "    .colab-df-convert {\n",
              "      background-color: #E8F0FE;\n",
              "      border: none;\n",
              "      border-radius: 50%;\n",
              "      cursor: pointer;\n",
              "      display: none;\n",
              "      fill: #1967D2;\n",
              "      height: 32px;\n",
              "      padding: 0 0 0 0;\n",
              "      width: 32px;\n",
              "    }\n",
              "\n",
              "    .colab-df-convert:hover {\n",
              "      background-color: #E2EBFA;\n",
              "      box-shadow: 0px 1px 2px rgba(60, 64, 67, 0.3), 0px 1px 3px 1px rgba(60, 64, 67, 0.15);\n",
              "      fill: #174EA6;\n",
              "    }\n",
              "\n",
              "    .colab-df-buttons div {\n",
              "      margin-bottom: 4px;\n",
              "    }\n",
              "\n",
              "    [theme=dark] .colab-df-convert {\n",
              "      background-color: #3B4455;\n",
              "      fill: #D2E3FC;\n",
              "    }\n",
              "\n",
              "    [theme=dark] .colab-df-convert:hover {\n",
              "      background-color: #434B5C;\n",
              "      box-shadow: 0px 1px 3px 1px rgba(0, 0, 0, 0.15);\n",
              "      filter: drop-shadow(0px 1px 2px rgba(0, 0, 0, 0.3));\n",
              "      fill: #FFFFFF;\n",
              "    }\n",
              "  </style>\n",
              "\n",
              "    <script>\n",
              "      const buttonEl =\n",
              "        document.querySelector('#df-7ad6431e-410a-4681-8b2f-a8d04cfb03a2 button.colab-df-convert');\n",
              "      buttonEl.style.display =\n",
              "        google.colab.kernel.accessAllowed ? 'block' : 'none';\n",
              "\n",
              "      async function convertToInteractive(key) {\n",
              "        const element = document.querySelector('#df-7ad6431e-410a-4681-8b2f-a8d04cfb03a2');\n",
              "        const dataTable =\n",
              "          await google.colab.kernel.invokeFunction('convertToInteractive',\n",
              "                                                    [key], {});\n",
              "        if (!dataTable) return;\n",
              "\n",
              "        const docLinkHtml = 'Like what you see? Visit the ' +\n",
              "          '<a target=\"_blank\" href=https://colab.research.google.com/notebooks/data_table.ipynb>data table notebook</a>'\n",
              "          + ' to learn more about interactive tables.';\n",
              "        element.innerHTML = '';\n",
              "        dataTable['output_type'] = 'display_data';\n",
              "        await google.colab.output.renderOutput(dataTable, element);\n",
              "        const docLink = document.createElement('div');\n",
              "        docLink.innerHTML = docLinkHtml;\n",
              "        element.appendChild(docLink);\n",
              "      }\n",
              "    </script>\n",
              "  </div>\n",
              "\n",
              "\n",
              "<div id=\"df-ff64dd05-1f55-4e58-8d4b-5b8f1cd323f2\">\n",
              "  <button class=\"colab-df-quickchart\" onclick=\"quickchart('df-ff64dd05-1f55-4e58-8d4b-5b8f1cd323f2')\"\n",
              "            title=\"Suggest charts\"\n",
              "            style=\"display:none;\">\n",
              "\n",
              "<svg xmlns=\"http://www.w3.org/2000/svg\" height=\"24px\"viewBox=\"0 0 24 24\"\n",
              "     width=\"24px\">\n",
              "    <g>\n",
              "        <path d=\"M19 3H5c-1.1 0-2 .9-2 2v14c0 1.1.9 2 2 2h14c1.1 0 2-.9 2-2V5c0-1.1-.9-2-2-2zM9 17H7v-7h2v7zm4 0h-2V7h2v10zm4 0h-2v-4h2v4z\"/>\n",
              "    </g>\n",
              "</svg>\n",
              "  </button>\n",
              "\n",
              "<style>\n",
              "  .colab-df-quickchart {\n",
              "      --bg-color: #E8F0FE;\n",
              "      --fill-color: #1967D2;\n",
              "      --hover-bg-color: #E2EBFA;\n",
              "      --hover-fill-color: #174EA6;\n",
              "      --disabled-fill-color: #AAA;\n",
              "      --disabled-bg-color: #DDD;\n",
              "  }\n",
              "\n",
              "  [theme=dark] .colab-df-quickchart {\n",
              "      --bg-color: #3B4455;\n",
              "      --fill-color: #D2E3FC;\n",
              "      --hover-bg-color: #434B5C;\n",
              "      --hover-fill-color: #FFFFFF;\n",
              "      --disabled-bg-color: #3B4455;\n",
              "      --disabled-fill-color: #666;\n",
              "  }\n",
              "\n",
              "  .colab-df-quickchart {\n",
              "    background-color: var(--bg-color);\n",
              "    border: none;\n",
              "    border-radius: 50%;\n",
              "    cursor: pointer;\n",
              "    display: none;\n",
              "    fill: var(--fill-color);\n",
              "    height: 32px;\n",
              "    padding: 0;\n",
              "    width: 32px;\n",
              "  }\n",
              "\n",
              "  .colab-df-quickchart:hover {\n",
              "    background-color: var(--hover-bg-color);\n",
              "    box-shadow: 0 1px 2px rgba(60, 64, 67, 0.3), 0 1px 3px 1px rgba(60, 64, 67, 0.15);\n",
              "    fill: var(--button-hover-fill-color);\n",
              "  }\n",
              "\n",
              "  .colab-df-quickchart-complete:disabled,\n",
              "  .colab-df-quickchart-complete:disabled:hover {\n",
              "    background-color: var(--disabled-bg-color);\n",
              "    fill: var(--disabled-fill-color);\n",
              "    box-shadow: none;\n",
              "  }\n",
              "\n",
              "  .colab-df-spinner {\n",
              "    border: 2px solid var(--fill-color);\n",
              "    border-color: transparent;\n",
              "    border-bottom-color: var(--fill-color);\n",
              "    animation:\n",
              "      spin 1s steps(1) infinite;\n",
              "  }\n",
              "\n",
              "  @keyframes spin {\n",
              "    0% {\n",
              "      border-color: transparent;\n",
              "      border-bottom-color: var(--fill-color);\n",
              "      border-left-color: var(--fill-color);\n",
              "    }\n",
              "    20% {\n",
              "      border-color: transparent;\n",
              "      border-left-color: var(--fill-color);\n",
              "      border-top-color: var(--fill-color);\n",
              "    }\n",
              "    30% {\n",
              "      border-color: transparent;\n",
              "      border-left-color: var(--fill-color);\n",
              "      border-top-color: var(--fill-color);\n",
              "      border-right-color: var(--fill-color);\n",
              "    }\n",
              "    40% {\n",
              "      border-color: transparent;\n",
              "      border-right-color: var(--fill-color);\n",
              "      border-top-color: var(--fill-color);\n",
              "    }\n",
              "    60% {\n",
              "      border-color: transparent;\n",
              "      border-right-color: var(--fill-color);\n",
              "    }\n",
              "    80% {\n",
              "      border-color: transparent;\n",
              "      border-right-color: var(--fill-color);\n",
              "      border-bottom-color: var(--fill-color);\n",
              "    }\n",
              "    90% {\n",
              "      border-color: transparent;\n",
              "      border-bottom-color: var(--fill-color);\n",
              "    }\n",
              "  }\n",
              "</style>\n",
              "\n",
              "  <script>\n",
              "    async function quickchart(key) {\n",
              "      const quickchartButtonEl =\n",
              "        document.querySelector('#' + key + ' button');\n",
              "      quickchartButtonEl.disabled = true;  // To prevent multiple clicks.\n",
              "      quickchartButtonEl.classList.add('colab-df-spinner');\n",
              "      try {\n",
              "        const charts = await google.colab.kernel.invokeFunction(\n",
              "            'suggestCharts', [key], {});\n",
              "      } catch (error) {\n",
              "        console.error('Error during call to suggestCharts:', error);\n",
              "      }\n",
              "      quickchartButtonEl.classList.remove('colab-df-spinner');\n",
              "      quickchartButtonEl.classList.add('colab-df-quickchart-complete');\n",
              "    }\n",
              "    (() => {\n",
              "      let quickchartButtonEl =\n",
              "        document.querySelector('#df-ff64dd05-1f55-4e58-8d4b-5b8f1cd323f2 button');\n",
              "      quickchartButtonEl.style.display =\n",
              "        google.colab.kernel.accessAllowed ? 'block' : 'none';\n",
              "    })();\n",
              "  </script>\n",
              "</div>\n",
              "\n",
              "    </div>\n",
              "  </div>\n"
            ],
            "application/vnd.google.colaboratory.intrinsic+json": {
              "type": "dataframe",
              "variable_name": "df"
            }
          },
          "metadata": {},
          "execution_count": 4
        }
      ]
    },
    {
      "cell_type": "code",
      "source": [
        "df.tail(3)"
      ],
      "metadata": {
        "colab": {
          "base_uri": "https://localhost:8080/",
          "height": 163
        },
        "id": "l21mXs1xnsIR",
        "outputId": "f5a2ae47-9347-4dfd-a5b8-df3600a92e57"
      },
      "execution_count": 5,
      "outputs": [
        {
          "output_type": "execute_result",
          "data": {
            "text/plain": [
              "           PatientId  AppointmentID Gender ScheduledDay AppointmentDay  Age  \\\n",
              "106984  1.557663e+13        5630692      F   2016-04-27     2016-06-07   21   \n",
              "106985  9.213493e+13        5630323      F   2016-04-27     2016-06-07   38   \n",
              "106986  3.775115e+14        5629448      F   2016-04-27     2016-06-07   54   \n",
              "\n",
              "       Neighbourhood  Scholarship  Hipertension  Diabetes  Alcoholism  \\\n",
              "106984   MARIA ORTIZ        False         False     False       False   \n",
              "106985   MARIA ORTIZ        False         False     False       False   \n",
              "106986   MARIA ORTIZ        False         False     False       False   \n",
              "\n",
              "        Handcap  SMS_received  Showed_up  Date.diff  \n",
              "106984    False          True       True         41  \n",
              "106985    False          True       True         41  \n",
              "106986    False          True       True         41  "
            ],
            "text/html": [
              "\n",
              "  <div id=\"df-dbfa496e-69c7-43ad-89cc-9702acf6a5ed\" class=\"colab-df-container\">\n",
              "    <div>\n",
              "<style scoped>\n",
              "    .dataframe tbody tr th:only-of-type {\n",
              "        vertical-align: middle;\n",
              "    }\n",
              "\n",
              "    .dataframe tbody tr th {\n",
              "        vertical-align: top;\n",
              "    }\n",
              "\n",
              "    .dataframe thead th {\n",
              "        text-align: right;\n",
              "    }\n",
              "</style>\n",
              "<table border=\"1\" class=\"dataframe\">\n",
              "  <thead>\n",
              "    <tr style=\"text-align: right;\">\n",
              "      <th></th>\n",
              "      <th>PatientId</th>\n",
              "      <th>AppointmentID</th>\n",
              "      <th>Gender</th>\n",
              "      <th>ScheduledDay</th>\n",
              "      <th>AppointmentDay</th>\n",
              "      <th>Age</th>\n",
              "      <th>Neighbourhood</th>\n",
              "      <th>Scholarship</th>\n",
              "      <th>Hipertension</th>\n",
              "      <th>Diabetes</th>\n",
              "      <th>Alcoholism</th>\n",
              "      <th>Handcap</th>\n",
              "      <th>SMS_received</th>\n",
              "      <th>Showed_up</th>\n",
              "      <th>Date.diff</th>\n",
              "    </tr>\n",
              "  </thead>\n",
              "  <tbody>\n",
              "    <tr>\n",
              "      <th>106984</th>\n",
              "      <td>1.557663e+13</td>\n",
              "      <td>5630692</td>\n",
              "      <td>F</td>\n",
              "      <td>2016-04-27</td>\n",
              "      <td>2016-06-07</td>\n",
              "      <td>21</td>\n",
              "      <td>MARIA ORTIZ</td>\n",
              "      <td>False</td>\n",
              "      <td>False</td>\n",
              "      <td>False</td>\n",
              "      <td>False</td>\n",
              "      <td>False</td>\n",
              "      <td>True</td>\n",
              "      <td>True</td>\n",
              "      <td>41</td>\n",
              "    </tr>\n",
              "    <tr>\n",
              "      <th>106985</th>\n",
              "      <td>9.213493e+13</td>\n",
              "      <td>5630323</td>\n",
              "      <td>F</td>\n",
              "      <td>2016-04-27</td>\n",
              "      <td>2016-06-07</td>\n",
              "      <td>38</td>\n",
              "      <td>MARIA ORTIZ</td>\n",
              "      <td>False</td>\n",
              "      <td>False</td>\n",
              "      <td>False</td>\n",
              "      <td>False</td>\n",
              "      <td>False</td>\n",
              "      <td>True</td>\n",
              "      <td>True</td>\n",
              "      <td>41</td>\n",
              "    </tr>\n",
              "    <tr>\n",
              "      <th>106986</th>\n",
              "      <td>3.775115e+14</td>\n",
              "      <td>5629448</td>\n",
              "      <td>F</td>\n",
              "      <td>2016-04-27</td>\n",
              "      <td>2016-06-07</td>\n",
              "      <td>54</td>\n",
              "      <td>MARIA ORTIZ</td>\n",
              "      <td>False</td>\n",
              "      <td>False</td>\n",
              "      <td>False</td>\n",
              "      <td>False</td>\n",
              "      <td>False</td>\n",
              "      <td>True</td>\n",
              "      <td>True</td>\n",
              "      <td>41</td>\n",
              "    </tr>\n",
              "  </tbody>\n",
              "</table>\n",
              "</div>\n",
              "    <div class=\"colab-df-buttons\">\n",
              "\n",
              "  <div class=\"colab-df-container\">\n",
              "    <button class=\"colab-df-convert\" onclick=\"convertToInteractive('df-dbfa496e-69c7-43ad-89cc-9702acf6a5ed')\"\n",
              "            title=\"Convert this dataframe to an interactive table.\"\n",
              "            style=\"display:none;\">\n",
              "\n",
              "  <svg xmlns=\"http://www.w3.org/2000/svg\" height=\"24px\" viewBox=\"0 -960 960 960\">\n",
              "    <path d=\"M120-120v-720h720v720H120Zm60-500h600v-160H180v160Zm220 220h160v-160H400v160Zm0 220h160v-160H400v160ZM180-400h160v-160H180v160Zm440 0h160v-160H620v160ZM180-180h160v-160H180v160Zm440 0h160v-160H620v160Z\"/>\n",
              "  </svg>\n",
              "    </button>\n",
              "\n",
              "  <style>\n",
              "    .colab-df-container {\n",
              "      display:flex;\n",
              "      gap: 12px;\n",
              "    }\n",
              "\n",
              "    .colab-df-convert {\n",
              "      background-color: #E8F0FE;\n",
              "      border: none;\n",
              "      border-radius: 50%;\n",
              "      cursor: pointer;\n",
              "      display: none;\n",
              "      fill: #1967D2;\n",
              "      height: 32px;\n",
              "      padding: 0 0 0 0;\n",
              "      width: 32px;\n",
              "    }\n",
              "\n",
              "    .colab-df-convert:hover {\n",
              "      background-color: #E2EBFA;\n",
              "      box-shadow: 0px 1px 2px rgba(60, 64, 67, 0.3), 0px 1px 3px 1px rgba(60, 64, 67, 0.15);\n",
              "      fill: #174EA6;\n",
              "    }\n",
              "\n",
              "    .colab-df-buttons div {\n",
              "      margin-bottom: 4px;\n",
              "    }\n",
              "\n",
              "    [theme=dark] .colab-df-convert {\n",
              "      background-color: #3B4455;\n",
              "      fill: #D2E3FC;\n",
              "    }\n",
              "\n",
              "    [theme=dark] .colab-df-convert:hover {\n",
              "      background-color: #434B5C;\n",
              "      box-shadow: 0px 1px 3px 1px rgba(0, 0, 0, 0.15);\n",
              "      filter: drop-shadow(0px 1px 2px rgba(0, 0, 0, 0.3));\n",
              "      fill: #FFFFFF;\n",
              "    }\n",
              "  </style>\n",
              "\n",
              "    <script>\n",
              "      const buttonEl =\n",
              "        document.querySelector('#df-dbfa496e-69c7-43ad-89cc-9702acf6a5ed button.colab-df-convert');\n",
              "      buttonEl.style.display =\n",
              "        google.colab.kernel.accessAllowed ? 'block' : 'none';\n",
              "\n",
              "      async function convertToInteractive(key) {\n",
              "        const element = document.querySelector('#df-dbfa496e-69c7-43ad-89cc-9702acf6a5ed');\n",
              "        const dataTable =\n",
              "          await google.colab.kernel.invokeFunction('convertToInteractive',\n",
              "                                                    [key], {});\n",
              "        if (!dataTable) return;\n",
              "\n",
              "        const docLinkHtml = 'Like what you see? Visit the ' +\n",
              "          '<a target=\"_blank\" href=https://colab.research.google.com/notebooks/data_table.ipynb>data table notebook</a>'\n",
              "          + ' to learn more about interactive tables.';\n",
              "        element.innerHTML = '';\n",
              "        dataTable['output_type'] = 'display_data';\n",
              "        await google.colab.output.renderOutput(dataTable, element);\n",
              "        const docLink = document.createElement('div');\n",
              "        docLink.innerHTML = docLinkHtml;\n",
              "        element.appendChild(docLink);\n",
              "      }\n",
              "    </script>\n",
              "  </div>\n",
              "\n",
              "\n",
              "<div id=\"df-3ddeb95a-4ae2-489e-9a8d-4521d6d177b3\">\n",
              "  <button class=\"colab-df-quickchart\" onclick=\"quickchart('df-3ddeb95a-4ae2-489e-9a8d-4521d6d177b3')\"\n",
              "            title=\"Suggest charts\"\n",
              "            style=\"display:none;\">\n",
              "\n",
              "<svg xmlns=\"http://www.w3.org/2000/svg\" height=\"24px\"viewBox=\"0 0 24 24\"\n",
              "     width=\"24px\">\n",
              "    <g>\n",
              "        <path d=\"M19 3H5c-1.1 0-2 .9-2 2v14c0 1.1.9 2 2 2h14c1.1 0 2-.9 2-2V5c0-1.1-.9-2-2-2zM9 17H7v-7h2v7zm4 0h-2V7h2v10zm4 0h-2v-4h2v4z\"/>\n",
              "    </g>\n",
              "</svg>\n",
              "  </button>\n",
              "\n",
              "<style>\n",
              "  .colab-df-quickchart {\n",
              "      --bg-color: #E8F0FE;\n",
              "      --fill-color: #1967D2;\n",
              "      --hover-bg-color: #E2EBFA;\n",
              "      --hover-fill-color: #174EA6;\n",
              "      --disabled-fill-color: #AAA;\n",
              "      --disabled-bg-color: #DDD;\n",
              "  }\n",
              "\n",
              "  [theme=dark] .colab-df-quickchart {\n",
              "      --bg-color: #3B4455;\n",
              "      --fill-color: #D2E3FC;\n",
              "      --hover-bg-color: #434B5C;\n",
              "      --hover-fill-color: #FFFFFF;\n",
              "      --disabled-bg-color: #3B4455;\n",
              "      --disabled-fill-color: #666;\n",
              "  }\n",
              "\n",
              "  .colab-df-quickchart {\n",
              "    background-color: var(--bg-color);\n",
              "    border: none;\n",
              "    border-radius: 50%;\n",
              "    cursor: pointer;\n",
              "    display: none;\n",
              "    fill: var(--fill-color);\n",
              "    height: 32px;\n",
              "    padding: 0;\n",
              "    width: 32px;\n",
              "  }\n",
              "\n",
              "  .colab-df-quickchart:hover {\n",
              "    background-color: var(--hover-bg-color);\n",
              "    box-shadow: 0 1px 2px rgba(60, 64, 67, 0.3), 0 1px 3px 1px rgba(60, 64, 67, 0.15);\n",
              "    fill: var(--button-hover-fill-color);\n",
              "  }\n",
              "\n",
              "  .colab-df-quickchart-complete:disabled,\n",
              "  .colab-df-quickchart-complete:disabled:hover {\n",
              "    background-color: var(--disabled-bg-color);\n",
              "    fill: var(--disabled-fill-color);\n",
              "    box-shadow: none;\n",
              "  }\n",
              "\n",
              "  .colab-df-spinner {\n",
              "    border: 2px solid var(--fill-color);\n",
              "    border-color: transparent;\n",
              "    border-bottom-color: var(--fill-color);\n",
              "    animation:\n",
              "      spin 1s steps(1) infinite;\n",
              "  }\n",
              "\n",
              "  @keyframes spin {\n",
              "    0% {\n",
              "      border-color: transparent;\n",
              "      border-bottom-color: var(--fill-color);\n",
              "      border-left-color: var(--fill-color);\n",
              "    }\n",
              "    20% {\n",
              "      border-color: transparent;\n",
              "      border-left-color: var(--fill-color);\n",
              "      border-top-color: var(--fill-color);\n",
              "    }\n",
              "    30% {\n",
              "      border-color: transparent;\n",
              "      border-left-color: var(--fill-color);\n",
              "      border-top-color: var(--fill-color);\n",
              "      border-right-color: var(--fill-color);\n",
              "    }\n",
              "    40% {\n",
              "      border-color: transparent;\n",
              "      border-right-color: var(--fill-color);\n",
              "      border-top-color: var(--fill-color);\n",
              "    }\n",
              "    60% {\n",
              "      border-color: transparent;\n",
              "      border-right-color: var(--fill-color);\n",
              "    }\n",
              "    80% {\n",
              "      border-color: transparent;\n",
              "      border-right-color: var(--fill-color);\n",
              "      border-bottom-color: var(--fill-color);\n",
              "    }\n",
              "    90% {\n",
              "      border-color: transparent;\n",
              "      border-bottom-color: var(--fill-color);\n",
              "    }\n",
              "  }\n",
              "</style>\n",
              "\n",
              "  <script>\n",
              "    async function quickchart(key) {\n",
              "      const quickchartButtonEl =\n",
              "        document.querySelector('#' + key + ' button');\n",
              "      quickchartButtonEl.disabled = true;  // To prevent multiple clicks.\n",
              "      quickchartButtonEl.classList.add('colab-df-spinner');\n",
              "      try {\n",
              "        const charts = await google.colab.kernel.invokeFunction(\n",
              "            'suggestCharts', [key], {});\n",
              "      } catch (error) {\n",
              "        console.error('Error during call to suggestCharts:', error);\n",
              "      }\n",
              "      quickchartButtonEl.classList.remove('colab-df-spinner');\n",
              "      quickchartButtonEl.classList.add('colab-df-quickchart-complete');\n",
              "    }\n",
              "    (() => {\n",
              "      let quickchartButtonEl =\n",
              "        document.querySelector('#df-3ddeb95a-4ae2-489e-9a8d-4521d6d177b3 button');\n",
              "      quickchartButtonEl.style.display =\n",
              "        google.colab.kernel.accessAllowed ? 'block' : 'none';\n",
              "    })();\n",
              "  </script>\n",
              "</div>\n",
              "\n",
              "    </div>\n",
              "  </div>\n"
            ],
            "application/vnd.google.colaboratory.intrinsic+json": {
              "type": "dataframe",
              "repr_error": "0"
            }
          },
          "metadata": {},
          "execution_count": 5
        }
      ]
    },
    {
      "cell_type": "markdown",
      "source": [
        "# ***KEŞİFSEL VERİ ANALİZİ ***"
      ],
      "metadata": {
        "id": "cwIUqsJBnyHY"
      }
    },
    {
      "cell_type": "code",
      "source": [
        "df.shape       #satir ve sutun sayısını gösterir"
      ],
      "metadata": {
        "colab": {
          "base_uri": "https://localhost:8080/"
        },
        "id": "-844mxE-nuxD",
        "outputId": "3f8adc71-89a2-4fc8-cce3-8d0342ed5fc2"
      },
      "execution_count": 6,
      "outputs": [
        {
          "output_type": "execute_result",
          "data": {
            "text/plain": [
              "(106987, 15)"
            ]
          },
          "metadata": {},
          "execution_count": 6
        }
      ]
    },
    {
      "cell_type": "code",
      "source": [
        "df.info()"
      ],
      "metadata": {
        "colab": {
          "base_uri": "https://localhost:8080/"
        },
        "id": "bV-IFFfKoTK3",
        "outputId": "904d5bba-2582-41ff-ba91-c81772286b47"
      },
      "execution_count": 7,
      "outputs": [
        {
          "output_type": "stream",
          "name": "stdout",
          "text": [
            "<class 'pandas.core.frame.DataFrame'>\n",
            "RangeIndex: 106987 entries, 0 to 106986\n",
            "Data columns (total 15 columns):\n",
            " #   Column          Non-Null Count   Dtype  \n",
            "---  ------          --------------   -----  \n",
            " 0   PatientId       106987 non-null  float64\n",
            " 1   AppointmentID   106987 non-null  int64  \n",
            " 2   Gender          106987 non-null  object \n",
            " 3   ScheduledDay    106987 non-null  object \n",
            " 4   AppointmentDay  106987 non-null  object \n",
            " 5   Age             106987 non-null  int64  \n",
            " 6   Neighbourhood   106987 non-null  object \n",
            " 7   Scholarship     106987 non-null  bool   \n",
            " 8   Hipertension    106987 non-null  bool   \n",
            " 9   Diabetes        106987 non-null  bool   \n",
            " 10  Alcoholism      106987 non-null  bool   \n",
            " 11  Handcap         106987 non-null  bool   \n",
            " 12  SMS_received    106987 non-null  bool   \n",
            " 13  Showed_up       106987 non-null  bool   \n",
            " 14  Date.diff       106987 non-null  int64  \n",
            "dtypes: bool(7), float64(1), int64(3), object(4)\n",
            "memory usage: 7.2+ MB\n"
          ]
        }
      ]
    },
    {
      "cell_type": "markdown",
      "source": [
        " Sütunlar arasında PatientId, AppointmentID, Age ve Date.diff gibi sayısal veri türlerinde (float64 ve int64) sütunlar bulunurken, Gender, ScheduledDay, AppointmentDay, Neighbourhood gibi kategorik veri türlerinde (object) sütunlar da mevcuttur. Ayrıca, Scholarship gibi Boolean (True/False) türünde bir sütun da bulunmaktadır. Veri setinde boş (null) değer bulunmamaktadır. Bu veri seti, toplamda 6.2 MB bellek kullanmaktadır ve büyük bir veri seti olmasına rağmen, tekrarlanan satır bulunmamaktadır."
      ],
      "metadata": {
        "id": "70JinBg6s1ec"
      }
    },
    {
      "cell_type": "code",
      "source": [
        "df.axes"
      ],
      "metadata": {
        "colab": {
          "base_uri": "https://localhost:8080/"
        },
        "id": "phlzY8mikN1C",
        "outputId": "dfc9097d-899c-4f12-a75b-96357456d31c"
      },
      "execution_count": 8,
      "outputs": [
        {
          "output_type": "execute_result",
          "data": {
            "text/plain": [
              "[RangeIndex(start=0, stop=106987, step=1),\n",
              " Index(['PatientId', 'AppointmentID', 'Gender', 'ScheduledDay',\n",
              "        'AppointmentDay', 'Age', 'Neighbourhood', 'Scholarship', 'Hipertension',\n",
              "        'Diabetes', 'Alcoholism', 'Handcap', 'SMS_received', 'Showed_up',\n",
              "        'Date.diff'],\n",
              "       dtype='object')]"
            ]
          },
          "metadata": {},
          "execution_count": 8
        }
      ]
    },
    {
      "cell_type": "markdown",
      "source": [
        "Bu çıktı, veri çerçevenizin yapısını göstermektedir. İlk liste, satır indekslerini belirtir ve burada RangeIndex(start=0, stop=57826, step=1) ifadesi, satır indekslerinin 0'dan başlayıp 57825'e kadar sıralandığını gösterir (toplamda 57826 satır). İkinci liste ise sütun adlarını içerir ve DataFrame'inizdeki sütunlar sırasıyla 'PatientId', 'AppointmentID', 'Gender', 'ScheduledDay', 'AppointmentDay', 'Age', 'Neighbourhood', 'Scholarship', 'Hipertension', 'Diabetes', 'Alcoholism', 'Handcap', 'SMS_received', 'Showed_up', 'Date.diff' olarak belirtilmiştir. Bu, veri çerçevesinin toplamda 15 sütun içerdiğini ve her bir sütunun ismini gösterir."
      ],
      "metadata": {
        "id": "fWxEiiGTtT2G"
      }
    },
    {
      "cell_type": "code",
      "source": [
        "df[\"Age\"].min()"
      ],
      "metadata": {
        "colab": {
          "base_uri": "https://localhost:8080/"
        },
        "id": "iFJ7Ks_HpH4C",
        "outputId": "509c08f1-c9ac-4fba-ec09-590e26664e0f"
      },
      "execution_count": 9,
      "outputs": [
        {
          "output_type": "execute_result",
          "data": {
            "text/plain": [
              "1"
            ]
          },
          "metadata": {},
          "execution_count": 9
        }
      ]
    },
    {
      "cell_type": "code",
      "source": [
        "df[\"Age\"].max()"
      ],
      "metadata": {
        "colab": {
          "base_uri": "https://localhost:8080/"
        },
        "id": "FPJyRFkMpJ2R",
        "outputId": "c97a6541-3dc2-460a-87f7-b196fbcecd18"
      },
      "execution_count": 10,
      "outputs": [
        {
          "output_type": "execute_result",
          "data": {
            "text/plain": [
              "115"
            ]
          },
          "metadata": {},
          "execution_count": 10
        }
      ]
    },
    {
      "cell_type": "code",
      "source": [
        "df[df[\"Age\"] == 115].index"
      ],
      "metadata": {
        "colab": {
          "base_uri": "https://localhost:8080/"
        },
        "id": "DVHhRjUBpRC6",
        "outputId": "a730f3e9-132b-44ac-f9dd-0604d574de3d"
      },
      "execution_count": 11,
      "outputs": [
        {
          "output_type": "execute_result",
          "data": {
            "text/plain": [
              "Index([61803, 61806, 65876, 73825, 94560], dtype='int64')"
            ]
          },
          "metadata": {},
          "execution_count": 11
        }
      ]
    },
    {
      "cell_type": "code",
      "source": [
        "df[df[\"Age\"] == 115].head()"
      ],
      "metadata": {
        "colab": {
          "base_uri": "https://localhost:8080/",
          "height": 226
        },
        "id": "HZVDYKSqpb4H",
        "outputId": "b7e247aa-542f-47e0-d80d-a0a0e65da8f7"
      },
      "execution_count": 12,
      "outputs": [
        {
          "output_type": "execute_result",
          "data": {
            "text/plain": [
              "          PatientId  AppointmentID Gender ScheduledDay AppointmentDay  Age  \\\n",
              "61803  3.196321e+13        5700278      F   2016-05-16     2016-05-19  115   \n",
              "61806  3.196321e+13        5700279      F   2016-05-16     2016-05-19  115   \n",
              "65876  3.196321e+13        5562812      F   2016-04-08     2016-05-16  115   \n",
              "73825  3.196321e+13        5744037      F   2016-05-30     2016-05-30  115   \n",
              "94560  7.482346e+14        5717451      F   2016-05-19     2016-06-03  115   \n",
              "\n",
              "      Neighbourhood  Scholarship  Hipertension  Diabetes  Alcoholism  Handcap  \\\n",
              "61803    ANDORINHAS        False         False     False       False     True   \n",
              "61806    ANDORINHAS        False         False     False       False     True   \n",
              "65876    ANDORINHAS        False         False     False       False     True   \n",
              "73825    ANDORINHAS        False         False     False       False     True   \n",
              "94560      SÃO JOSÉ        False          True     False       False    False   \n",
              "\n",
              "       SMS_received  Showed_up  Date.diff  \n",
              "61803         False      False          3  \n",
              "61806         False      False          3  \n",
              "65876         False      False         38  \n",
              "73825         False       True          0  \n",
              "94560          True       True         15  "
            ],
            "text/html": [
              "\n",
              "  <div id=\"df-0e8b5de9-307b-42da-abea-39499bd65d26\" class=\"colab-df-container\">\n",
              "    <div>\n",
              "<style scoped>\n",
              "    .dataframe tbody tr th:only-of-type {\n",
              "        vertical-align: middle;\n",
              "    }\n",
              "\n",
              "    .dataframe tbody tr th {\n",
              "        vertical-align: top;\n",
              "    }\n",
              "\n",
              "    .dataframe thead th {\n",
              "        text-align: right;\n",
              "    }\n",
              "</style>\n",
              "<table border=\"1\" class=\"dataframe\">\n",
              "  <thead>\n",
              "    <tr style=\"text-align: right;\">\n",
              "      <th></th>\n",
              "      <th>PatientId</th>\n",
              "      <th>AppointmentID</th>\n",
              "      <th>Gender</th>\n",
              "      <th>ScheduledDay</th>\n",
              "      <th>AppointmentDay</th>\n",
              "      <th>Age</th>\n",
              "      <th>Neighbourhood</th>\n",
              "      <th>Scholarship</th>\n",
              "      <th>Hipertension</th>\n",
              "      <th>Diabetes</th>\n",
              "      <th>Alcoholism</th>\n",
              "      <th>Handcap</th>\n",
              "      <th>SMS_received</th>\n",
              "      <th>Showed_up</th>\n",
              "      <th>Date.diff</th>\n",
              "    </tr>\n",
              "  </thead>\n",
              "  <tbody>\n",
              "    <tr>\n",
              "      <th>61803</th>\n",
              "      <td>3.196321e+13</td>\n",
              "      <td>5700278</td>\n",
              "      <td>F</td>\n",
              "      <td>2016-05-16</td>\n",
              "      <td>2016-05-19</td>\n",
              "      <td>115</td>\n",
              "      <td>ANDORINHAS</td>\n",
              "      <td>False</td>\n",
              "      <td>False</td>\n",
              "      <td>False</td>\n",
              "      <td>False</td>\n",
              "      <td>True</td>\n",
              "      <td>False</td>\n",
              "      <td>False</td>\n",
              "      <td>3</td>\n",
              "    </tr>\n",
              "    <tr>\n",
              "      <th>61806</th>\n",
              "      <td>3.196321e+13</td>\n",
              "      <td>5700279</td>\n",
              "      <td>F</td>\n",
              "      <td>2016-05-16</td>\n",
              "      <td>2016-05-19</td>\n",
              "      <td>115</td>\n",
              "      <td>ANDORINHAS</td>\n",
              "      <td>False</td>\n",
              "      <td>False</td>\n",
              "      <td>False</td>\n",
              "      <td>False</td>\n",
              "      <td>True</td>\n",
              "      <td>False</td>\n",
              "      <td>False</td>\n",
              "      <td>3</td>\n",
              "    </tr>\n",
              "    <tr>\n",
              "      <th>65876</th>\n",
              "      <td>3.196321e+13</td>\n",
              "      <td>5562812</td>\n",
              "      <td>F</td>\n",
              "      <td>2016-04-08</td>\n",
              "      <td>2016-05-16</td>\n",
              "      <td>115</td>\n",
              "      <td>ANDORINHAS</td>\n",
              "      <td>False</td>\n",
              "      <td>False</td>\n",
              "      <td>False</td>\n",
              "      <td>False</td>\n",
              "      <td>True</td>\n",
              "      <td>False</td>\n",
              "      <td>False</td>\n",
              "      <td>38</td>\n",
              "    </tr>\n",
              "    <tr>\n",
              "      <th>73825</th>\n",
              "      <td>3.196321e+13</td>\n",
              "      <td>5744037</td>\n",
              "      <td>F</td>\n",
              "      <td>2016-05-30</td>\n",
              "      <td>2016-05-30</td>\n",
              "      <td>115</td>\n",
              "      <td>ANDORINHAS</td>\n",
              "      <td>False</td>\n",
              "      <td>False</td>\n",
              "      <td>False</td>\n",
              "      <td>False</td>\n",
              "      <td>True</td>\n",
              "      <td>False</td>\n",
              "      <td>True</td>\n",
              "      <td>0</td>\n",
              "    </tr>\n",
              "    <tr>\n",
              "      <th>94560</th>\n",
              "      <td>7.482346e+14</td>\n",
              "      <td>5717451</td>\n",
              "      <td>F</td>\n",
              "      <td>2016-05-19</td>\n",
              "      <td>2016-06-03</td>\n",
              "      <td>115</td>\n",
              "      <td>SÃO JOSÉ</td>\n",
              "      <td>False</td>\n",
              "      <td>True</td>\n",
              "      <td>False</td>\n",
              "      <td>False</td>\n",
              "      <td>False</td>\n",
              "      <td>True</td>\n",
              "      <td>True</td>\n",
              "      <td>15</td>\n",
              "    </tr>\n",
              "  </tbody>\n",
              "</table>\n",
              "</div>\n",
              "    <div class=\"colab-df-buttons\">\n",
              "\n",
              "  <div class=\"colab-df-container\">\n",
              "    <button class=\"colab-df-convert\" onclick=\"convertToInteractive('df-0e8b5de9-307b-42da-abea-39499bd65d26')\"\n",
              "            title=\"Convert this dataframe to an interactive table.\"\n",
              "            style=\"display:none;\">\n",
              "\n",
              "  <svg xmlns=\"http://www.w3.org/2000/svg\" height=\"24px\" viewBox=\"0 -960 960 960\">\n",
              "    <path d=\"M120-120v-720h720v720H120Zm60-500h600v-160H180v160Zm220 220h160v-160H400v160Zm0 220h160v-160H400v160ZM180-400h160v-160H180v160Zm440 0h160v-160H620v160ZM180-180h160v-160H180v160Zm440 0h160v-160H620v160Z\"/>\n",
              "  </svg>\n",
              "    </button>\n",
              "\n",
              "  <style>\n",
              "    .colab-df-container {\n",
              "      display:flex;\n",
              "      gap: 12px;\n",
              "    }\n",
              "\n",
              "    .colab-df-convert {\n",
              "      background-color: #E8F0FE;\n",
              "      border: none;\n",
              "      border-radius: 50%;\n",
              "      cursor: pointer;\n",
              "      display: none;\n",
              "      fill: #1967D2;\n",
              "      height: 32px;\n",
              "      padding: 0 0 0 0;\n",
              "      width: 32px;\n",
              "    }\n",
              "\n",
              "    .colab-df-convert:hover {\n",
              "      background-color: #E2EBFA;\n",
              "      box-shadow: 0px 1px 2px rgba(60, 64, 67, 0.3), 0px 1px 3px 1px rgba(60, 64, 67, 0.15);\n",
              "      fill: #174EA6;\n",
              "    }\n",
              "\n",
              "    .colab-df-buttons div {\n",
              "      margin-bottom: 4px;\n",
              "    }\n",
              "\n",
              "    [theme=dark] .colab-df-convert {\n",
              "      background-color: #3B4455;\n",
              "      fill: #D2E3FC;\n",
              "    }\n",
              "\n",
              "    [theme=dark] .colab-df-convert:hover {\n",
              "      background-color: #434B5C;\n",
              "      box-shadow: 0px 1px 3px 1px rgba(0, 0, 0, 0.15);\n",
              "      filter: drop-shadow(0px 1px 2px rgba(0, 0, 0, 0.3));\n",
              "      fill: #FFFFFF;\n",
              "    }\n",
              "  </style>\n",
              "\n",
              "    <script>\n",
              "      const buttonEl =\n",
              "        document.querySelector('#df-0e8b5de9-307b-42da-abea-39499bd65d26 button.colab-df-convert');\n",
              "      buttonEl.style.display =\n",
              "        google.colab.kernel.accessAllowed ? 'block' : 'none';\n",
              "\n",
              "      async function convertToInteractive(key) {\n",
              "        const element = document.querySelector('#df-0e8b5de9-307b-42da-abea-39499bd65d26');\n",
              "        const dataTable =\n",
              "          await google.colab.kernel.invokeFunction('convertToInteractive',\n",
              "                                                    [key], {});\n",
              "        if (!dataTable) return;\n",
              "\n",
              "        const docLinkHtml = 'Like what you see? Visit the ' +\n",
              "          '<a target=\"_blank\" href=https://colab.research.google.com/notebooks/data_table.ipynb>data table notebook</a>'\n",
              "          + ' to learn more about interactive tables.';\n",
              "        element.innerHTML = '';\n",
              "        dataTable['output_type'] = 'display_data';\n",
              "        await google.colab.output.renderOutput(dataTable, element);\n",
              "        const docLink = document.createElement('div');\n",
              "        docLink.innerHTML = docLinkHtml;\n",
              "        element.appendChild(docLink);\n",
              "      }\n",
              "    </script>\n",
              "  </div>\n",
              "\n",
              "\n",
              "<div id=\"df-e123ecec-af8e-42d5-9bc6-b9157cb80149\">\n",
              "  <button class=\"colab-df-quickchart\" onclick=\"quickchart('df-e123ecec-af8e-42d5-9bc6-b9157cb80149')\"\n",
              "            title=\"Suggest charts\"\n",
              "            style=\"display:none;\">\n",
              "\n",
              "<svg xmlns=\"http://www.w3.org/2000/svg\" height=\"24px\"viewBox=\"0 0 24 24\"\n",
              "     width=\"24px\">\n",
              "    <g>\n",
              "        <path d=\"M19 3H5c-1.1 0-2 .9-2 2v14c0 1.1.9 2 2 2h14c1.1 0 2-.9 2-2V5c0-1.1-.9-2-2-2zM9 17H7v-7h2v7zm4 0h-2V7h2v10zm4 0h-2v-4h2v4z\"/>\n",
              "    </g>\n",
              "</svg>\n",
              "  </button>\n",
              "\n",
              "<style>\n",
              "  .colab-df-quickchart {\n",
              "      --bg-color: #E8F0FE;\n",
              "      --fill-color: #1967D2;\n",
              "      --hover-bg-color: #E2EBFA;\n",
              "      --hover-fill-color: #174EA6;\n",
              "      --disabled-fill-color: #AAA;\n",
              "      --disabled-bg-color: #DDD;\n",
              "  }\n",
              "\n",
              "  [theme=dark] .colab-df-quickchart {\n",
              "      --bg-color: #3B4455;\n",
              "      --fill-color: #D2E3FC;\n",
              "      --hover-bg-color: #434B5C;\n",
              "      --hover-fill-color: #FFFFFF;\n",
              "      --disabled-bg-color: #3B4455;\n",
              "      --disabled-fill-color: #666;\n",
              "  }\n",
              "\n",
              "  .colab-df-quickchart {\n",
              "    background-color: var(--bg-color);\n",
              "    border: none;\n",
              "    border-radius: 50%;\n",
              "    cursor: pointer;\n",
              "    display: none;\n",
              "    fill: var(--fill-color);\n",
              "    height: 32px;\n",
              "    padding: 0;\n",
              "    width: 32px;\n",
              "  }\n",
              "\n",
              "  .colab-df-quickchart:hover {\n",
              "    background-color: var(--hover-bg-color);\n",
              "    box-shadow: 0 1px 2px rgba(60, 64, 67, 0.3), 0 1px 3px 1px rgba(60, 64, 67, 0.15);\n",
              "    fill: var(--button-hover-fill-color);\n",
              "  }\n",
              "\n",
              "  .colab-df-quickchart-complete:disabled,\n",
              "  .colab-df-quickchart-complete:disabled:hover {\n",
              "    background-color: var(--disabled-bg-color);\n",
              "    fill: var(--disabled-fill-color);\n",
              "    box-shadow: none;\n",
              "  }\n",
              "\n",
              "  .colab-df-spinner {\n",
              "    border: 2px solid var(--fill-color);\n",
              "    border-color: transparent;\n",
              "    border-bottom-color: var(--fill-color);\n",
              "    animation:\n",
              "      spin 1s steps(1) infinite;\n",
              "  }\n",
              "\n",
              "  @keyframes spin {\n",
              "    0% {\n",
              "      border-color: transparent;\n",
              "      border-bottom-color: var(--fill-color);\n",
              "      border-left-color: var(--fill-color);\n",
              "    }\n",
              "    20% {\n",
              "      border-color: transparent;\n",
              "      border-left-color: var(--fill-color);\n",
              "      border-top-color: var(--fill-color);\n",
              "    }\n",
              "    30% {\n",
              "      border-color: transparent;\n",
              "      border-left-color: var(--fill-color);\n",
              "      border-top-color: var(--fill-color);\n",
              "      border-right-color: var(--fill-color);\n",
              "    }\n",
              "    40% {\n",
              "      border-color: transparent;\n",
              "      border-right-color: var(--fill-color);\n",
              "      border-top-color: var(--fill-color);\n",
              "    }\n",
              "    60% {\n",
              "      border-color: transparent;\n",
              "      border-right-color: var(--fill-color);\n",
              "    }\n",
              "    80% {\n",
              "      border-color: transparent;\n",
              "      border-right-color: var(--fill-color);\n",
              "      border-bottom-color: var(--fill-color);\n",
              "    }\n",
              "    90% {\n",
              "      border-color: transparent;\n",
              "      border-bottom-color: var(--fill-color);\n",
              "    }\n",
              "  }\n",
              "</style>\n",
              "\n",
              "  <script>\n",
              "    async function quickchart(key) {\n",
              "      const quickchartButtonEl =\n",
              "        document.querySelector('#' + key + ' button');\n",
              "      quickchartButtonEl.disabled = true;  // To prevent multiple clicks.\n",
              "      quickchartButtonEl.classList.add('colab-df-spinner');\n",
              "      try {\n",
              "        const charts = await google.colab.kernel.invokeFunction(\n",
              "            'suggestCharts', [key], {});\n",
              "      } catch (error) {\n",
              "        console.error('Error during call to suggestCharts:', error);\n",
              "      }\n",
              "      quickchartButtonEl.classList.remove('colab-df-spinner');\n",
              "      quickchartButtonEl.classList.add('colab-df-quickchart-complete');\n",
              "    }\n",
              "    (() => {\n",
              "      let quickchartButtonEl =\n",
              "        document.querySelector('#df-e123ecec-af8e-42d5-9bc6-b9157cb80149 button');\n",
              "      quickchartButtonEl.style.display =\n",
              "        google.colab.kernel.accessAllowed ? 'block' : 'none';\n",
              "    })();\n",
              "  </script>\n",
              "</div>\n",
              "\n",
              "    </div>\n",
              "  </div>\n"
            ],
            "application/vnd.google.colaboratory.intrinsic+json": {
              "type": "dataframe",
              "repr_error": "0"
            }
          },
          "metadata": {},
          "execution_count": 12
        }
      ]
    },
    {
      "cell_type": "code",
      "source": [
        "df.pivot_table(\"Age\", \"Gender\", \"Showed_up\", aggfunc=\"mean\").head()"
      ],
      "metadata": {
        "colab": {
          "base_uri": "https://localhost:8080/",
          "height": 143
        },
        "id": "VOPM9FDPoKyD",
        "outputId": "af81edcd-8e79-4af8-8db5-b0a72ed894f0"
      },
      "execution_count": 13,
      "outputs": [
        {
          "output_type": "execute_result",
          "data": {
            "text/plain": [
              "Showed_up      False      True \n",
              "Gender                         \n",
              "F          36.970298  40.585105\n",
              "M          32.165429  36.213447"
            ],
            "text/html": [
              "\n",
              "  <div id=\"df-d2917c85-f84d-4131-bca5-f572225e5884\" class=\"colab-df-container\">\n",
              "    <div>\n",
              "<style scoped>\n",
              "    .dataframe tbody tr th:only-of-type {\n",
              "        vertical-align: middle;\n",
              "    }\n",
              "\n",
              "    .dataframe tbody tr th {\n",
              "        vertical-align: top;\n",
              "    }\n",
              "\n",
              "    .dataframe thead th {\n",
              "        text-align: right;\n",
              "    }\n",
              "</style>\n",
              "<table border=\"1\" class=\"dataframe\">\n",
              "  <thead>\n",
              "    <tr style=\"text-align: right;\">\n",
              "      <th>Showed_up</th>\n",
              "      <th>False</th>\n",
              "      <th>True</th>\n",
              "    </tr>\n",
              "    <tr>\n",
              "      <th>Gender</th>\n",
              "      <th></th>\n",
              "      <th></th>\n",
              "    </tr>\n",
              "  </thead>\n",
              "  <tbody>\n",
              "    <tr>\n",
              "      <th>F</th>\n",
              "      <td>36.970298</td>\n",
              "      <td>40.585105</td>\n",
              "    </tr>\n",
              "    <tr>\n",
              "      <th>M</th>\n",
              "      <td>32.165429</td>\n",
              "      <td>36.213447</td>\n",
              "    </tr>\n",
              "  </tbody>\n",
              "</table>\n",
              "</div>\n",
              "    <div class=\"colab-df-buttons\">\n",
              "\n",
              "  <div class=\"colab-df-container\">\n",
              "    <button class=\"colab-df-convert\" onclick=\"convertToInteractive('df-d2917c85-f84d-4131-bca5-f572225e5884')\"\n",
              "            title=\"Convert this dataframe to an interactive table.\"\n",
              "            style=\"display:none;\">\n",
              "\n",
              "  <svg xmlns=\"http://www.w3.org/2000/svg\" height=\"24px\" viewBox=\"0 -960 960 960\">\n",
              "    <path d=\"M120-120v-720h720v720H120Zm60-500h600v-160H180v160Zm220 220h160v-160H400v160Zm0 220h160v-160H400v160ZM180-400h160v-160H180v160Zm440 0h160v-160H620v160ZM180-180h160v-160H180v160Zm440 0h160v-160H620v160Z\"/>\n",
              "  </svg>\n",
              "    </button>\n",
              "\n",
              "  <style>\n",
              "    .colab-df-container {\n",
              "      display:flex;\n",
              "      gap: 12px;\n",
              "    }\n",
              "\n",
              "    .colab-df-convert {\n",
              "      background-color: #E8F0FE;\n",
              "      border: none;\n",
              "      border-radius: 50%;\n",
              "      cursor: pointer;\n",
              "      display: none;\n",
              "      fill: #1967D2;\n",
              "      height: 32px;\n",
              "      padding: 0 0 0 0;\n",
              "      width: 32px;\n",
              "    }\n",
              "\n",
              "    .colab-df-convert:hover {\n",
              "      background-color: #E2EBFA;\n",
              "      box-shadow: 0px 1px 2px rgba(60, 64, 67, 0.3), 0px 1px 3px 1px rgba(60, 64, 67, 0.15);\n",
              "      fill: #174EA6;\n",
              "    }\n",
              "\n",
              "    .colab-df-buttons div {\n",
              "      margin-bottom: 4px;\n",
              "    }\n",
              "\n",
              "    [theme=dark] .colab-df-convert {\n",
              "      background-color: #3B4455;\n",
              "      fill: #D2E3FC;\n",
              "    }\n",
              "\n",
              "    [theme=dark] .colab-df-convert:hover {\n",
              "      background-color: #434B5C;\n",
              "      box-shadow: 0px 1px 3px 1px rgba(0, 0, 0, 0.15);\n",
              "      filter: drop-shadow(0px 1px 2px rgba(0, 0, 0, 0.3));\n",
              "      fill: #FFFFFF;\n",
              "    }\n",
              "  </style>\n",
              "\n",
              "    <script>\n",
              "      const buttonEl =\n",
              "        document.querySelector('#df-d2917c85-f84d-4131-bca5-f572225e5884 button.colab-df-convert');\n",
              "      buttonEl.style.display =\n",
              "        google.colab.kernel.accessAllowed ? 'block' : 'none';\n",
              "\n",
              "      async function convertToInteractive(key) {\n",
              "        const element = document.querySelector('#df-d2917c85-f84d-4131-bca5-f572225e5884');\n",
              "        const dataTable =\n",
              "          await google.colab.kernel.invokeFunction('convertToInteractive',\n",
              "                                                    [key], {});\n",
              "        if (!dataTable) return;\n",
              "\n",
              "        const docLinkHtml = 'Like what you see? Visit the ' +\n",
              "          '<a target=\"_blank\" href=https://colab.research.google.com/notebooks/data_table.ipynb>data table notebook</a>'\n",
              "          + ' to learn more about interactive tables.';\n",
              "        element.innerHTML = '';\n",
              "        dataTable['output_type'] = 'display_data';\n",
              "        await google.colab.output.renderOutput(dataTable, element);\n",
              "        const docLink = document.createElement('div');\n",
              "        docLink.innerHTML = docLinkHtml;\n",
              "        element.appendChild(docLink);\n",
              "      }\n",
              "    </script>\n",
              "  </div>\n",
              "\n",
              "\n",
              "<div id=\"df-2439a739-8d86-470f-93ef-5f7874c7d3bb\">\n",
              "  <button class=\"colab-df-quickchart\" onclick=\"quickchart('df-2439a739-8d86-470f-93ef-5f7874c7d3bb')\"\n",
              "            title=\"Suggest charts\"\n",
              "            style=\"display:none;\">\n",
              "\n",
              "<svg xmlns=\"http://www.w3.org/2000/svg\" height=\"24px\"viewBox=\"0 0 24 24\"\n",
              "     width=\"24px\">\n",
              "    <g>\n",
              "        <path d=\"M19 3H5c-1.1 0-2 .9-2 2v14c0 1.1.9 2 2 2h14c1.1 0 2-.9 2-2V5c0-1.1-.9-2-2-2zM9 17H7v-7h2v7zm4 0h-2V7h2v10zm4 0h-2v-4h2v4z\"/>\n",
              "    </g>\n",
              "</svg>\n",
              "  </button>\n",
              "\n",
              "<style>\n",
              "  .colab-df-quickchart {\n",
              "      --bg-color: #E8F0FE;\n",
              "      --fill-color: #1967D2;\n",
              "      --hover-bg-color: #E2EBFA;\n",
              "      --hover-fill-color: #174EA6;\n",
              "      --disabled-fill-color: #AAA;\n",
              "      --disabled-bg-color: #DDD;\n",
              "  }\n",
              "\n",
              "  [theme=dark] .colab-df-quickchart {\n",
              "      --bg-color: #3B4455;\n",
              "      --fill-color: #D2E3FC;\n",
              "      --hover-bg-color: #434B5C;\n",
              "      --hover-fill-color: #FFFFFF;\n",
              "      --disabled-bg-color: #3B4455;\n",
              "      --disabled-fill-color: #666;\n",
              "  }\n",
              "\n",
              "  .colab-df-quickchart {\n",
              "    background-color: var(--bg-color);\n",
              "    border: none;\n",
              "    border-radius: 50%;\n",
              "    cursor: pointer;\n",
              "    display: none;\n",
              "    fill: var(--fill-color);\n",
              "    height: 32px;\n",
              "    padding: 0;\n",
              "    width: 32px;\n",
              "  }\n",
              "\n",
              "  .colab-df-quickchart:hover {\n",
              "    background-color: var(--hover-bg-color);\n",
              "    box-shadow: 0 1px 2px rgba(60, 64, 67, 0.3), 0 1px 3px 1px rgba(60, 64, 67, 0.15);\n",
              "    fill: var(--button-hover-fill-color);\n",
              "  }\n",
              "\n",
              "  .colab-df-quickchart-complete:disabled,\n",
              "  .colab-df-quickchart-complete:disabled:hover {\n",
              "    background-color: var(--disabled-bg-color);\n",
              "    fill: var(--disabled-fill-color);\n",
              "    box-shadow: none;\n",
              "  }\n",
              "\n",
              "  .colab-df-spinner {\n",
              "    border: 2px solid var(--fill-color);\n",
              "    border-color: transparent;\n",
              "    border-bottom-color: var(--fill-color);\n",
              "    animation:\n",
              "      spin 1s steps(1) infinite;\n",
              "  }\n",
              "\n",
              "  @keyframes spin {\n",
              "    0% {\n",
              "      border-color: transparent;\n",
              "      border-bottom-color: var(--fill-color);\n",
              "      border-left-color: var(--fill-color);\n",
              "    }\n",
              "    20% {\n",
              "      border-color: transparent;\n",
              "      border-left-color: var(--fill-color);\n",
              "      border-top-color: var(--fill-color);\n",
              "    }\n",
              "    30% {\n",
              "      border-color: transparent;\n",
              "      border-left-color: var(--fill-color);\n",
              "      border-top-color: var(--fill-color);\n",
              "      border-right-color: var(--fill-color);\n",
              "    }\n",
              "    40% {\n",
              "      border-color: transparent;\n",
              "      border-right-color: var(--fill-color);\n",
              "      border-top-color: var(--fill-color);\n",
              "    }\n",
              "    60% {\n",
              "      border-color: transparent;\n",
              "      border-right-color: var(--fill-color);\n",
              "    }\n",
              "    80% {\n",
              "      border-color: transparent;\n",
              "      border-right-color: var(--fill-color);\n",
              "      border-bottom-color: var(--fill-color);\n",
              "    }\n",
              "    90% {\n",
              "      border-color: transparent;\n",
              "      border-bottom-color: var(--fill-color);\n",
              "    }\n",
              "  }\n",
              "</style>\n",
              "\n",
              "  <script>\n",
              "    async function quickchart(key) {\n",
              "      const quickchartButtonEl =\n",
              "        document.querySelector('#' + key + ' button');\n",
              "      quickchartButtonEl.disabled = true;  // To prevent multiple clicks.\n",
              "      quickchartButtonEl.classList.add('colab-df-spinner');\n",
              "      try {\n",
              "        const charts = await google.colab.kernel.invokeFunction(\n",
              "            'suggestCharts', [key], {});\n",
              "      } catch (error) {\n",
              "        console.error('Error during call to suggestCharts:', error);\n",
              "      }\n",
              "      quickchartButtonEl.classList.remove('colab-df-spinner');\n",
              "      quickchartButtonEl.classList.add('colab-df-quickchart-complete');\n",
              "    }\n",
              "    (() => {\n",
              "      let quickchartButtonEl =\n",
              "        document.querySelector('#df-2439a739-8d86-470f-93ef-5f7874c7d3bb button');\n",
              "      quickchartButtonEl.style.display =\n",
              "        google.colab.kernel.accessAllowed ? 'block' : 'none';\n",
              "    })();\n",
              "  </script>\n",
              "</div>\n",
              "\n",
              "    </div>\n",
              "  </div>\n"
            ],
            "application/vnd.google.colaboratory.intrinsic+json": {
              "type": "dataframe",
              "summary": "{\n  \"name\": \"df\",\n  \"rows\": 2,\n  \"fields\": [\n    {\n      \"column\": \"Gender\",\n      \"properties\": {\n        \"dtype\": \"string\",\n        \"num_unique_values\": 2,\n        \"samples\": [\n          \"M\",\n          \"F\"\n        ],\n        \"semantic_type\": \"\",\n        \"description\": \"\"\n      }\n    },\n    {\n      \"column\": false,\n      \"properties\": {\n        \"dtype\": \"number\",\n        \"std\": 3.3975554235820886,\n        \"min\": 32.16542876434841,\n        \"max\": 36.97029772329247,\n        \"num_unique_values\": 2,\n        \"samples\": [\n          32.16542876434841,\n          36.97029772329247\n        ],\n        \"semantic_type\": \"\",\n        \"description\": \"\"\n      }\n    },\n    {\n      \"column\": true,\n      \"properties\": {\n        \"dtype\": \"number\",\n        \"std\": 3.091228840173567,\n        \"min\": 36.21344691827315,\n        \"max\": 40.58510466844546,\n        \"num_unique_values\": 2,\n        \"samples\": [\n          36.21344691827315,\n          40.58510466844546\n        ],\n        \"semantic_type\": \"\",\n        \"description\": \"\"\n      }\n    }\n  ]\n}"
            }
          },
          "metadata": {},
          "execution_count": 13
        }
      ]
    },
    {
      "cell_type": "markdown",
      "source": [
        "Burada Showed_up False kısmı randevuya gelmeme, True kısmı ise randevuya gelme durumunu ifade eder. Cinsiyete göre pivot tablo oluşturulmuştur."
      ],
      "metadata": {
        "id": "Z3jR_qxyqSqw"
      }
    },
    {
      "cell_type": "code",
      "source": [
        "df.describe().T"
      ],
      "metadata": {
        "colab": {
          "base_uri": "https://localhost:8080/",
          "height": 175
        },
        "id": "FtE945Oqoheh",
        "outputId": "b901166b-fed2-4726-ab27-4eeb2dc6a3ad"
      },
      "execution_count": 14,
      "outputs": [
        {
          "output_type": "execute_result",
          "data": {
            "text/plain": [
              "                  count          mean           std           min  \\\n",
              "PatientId      106987.0  1.472814e+14  2.558267e+14  3.921784e+04   \n",
              "AppointmentID  106987.0  5.675434e+06  7.133274e+04  5.030230e+06   \n",
              "Age            106987.0  3.831609e+01  2.246621e+01  1.000000e+00   \n",
              "Date.diff      106987.0  1.016672e+01  1.526351e+01 -6.000000e+00   \n",
              "\n",
              "                        25%           50%           75%           max  \n",
              "PatientId      4.173523e+12  3.172463e+13  9.433600e+13  9.999816e+14  \n",
              "AppointmentID  5.640490e+06  5.680744e+06  5.725634e+06  5.790484e+06  \n",
              "Age            1.900000e+01  3.800000e+01  5.600000e+01  1.150000e+02  \n",
              "Date.diff      0.000000e+00  4.000000e+00  1.400000e+01  1.790000e+02  "
            ],
            "text/html": [
              "\n",
              "  <div id=\"df-2a71a7ca-f6cf-48a3-98be-6bdcb2964521\" class=\"colab-df-container\">\n",
              "    <div>\n",
              "<style scoped>\n",
              "    .dataframe tbody tr th:only-of-type {\n",
              "        vertical-align: middle;\n",
              "    }\n",
              "\n",
              "    .dataframe tbody tr th {\n",
              "        vertical-align: top;\n",
              "    }\n",
              "\n",
              "    .dataframe thead th {\n",
              "        text-align: right;\n",
              "    }\n",
              "</style>\n",
              "<table border=\"1\" class=\"dataframe\">\n",
              "  <thead>\n",
              "    <tr style=\"text-align: right;\">\n",
              "      <th></th>\n",
              "      <th>count</th>\n",
              "      <th>mean</th>\n",
              "      <th>std</th>\n",
              "      <th>min</th>\n",
              "      <th>25%</th>\n",
              "      <th>50%</th>\n",
              "      <th>75%</th>\n",
              "      <th>max</th>\n",
              "    </tr>\n",
              "  </thead>\n",
              "  <tbody>\n",
              "    <tr>\n",
              "      <th>PatientId</th>\n",
              "      <td>106987.0</td>\n",
              "      <td>1.472814e+14</td>\n",
              "      <td>2.558267e+14</td>\n",
              "      <td>3.921784e+04</td>\n",
              "      <td>4.173523e+12</td>\n",
              "      <td>3.172463e+13</td>\n",
              "      <td>9.433600e+13</td>\n",
              "      <td>9.999816e+14</td>\n",
              "    </tr>\n",
              "    <tr>\n",
              "      <th>AppointmentID</th>\n",
              "      <td>106987.0</td>\n",
              "      <td>5.675434e+06</td>\n",
              "      <td>7.133274e+04</td>\n",
              "      <td>5.030230e+06</td>\n",
              "      <td>5.640490e+06</td>\n",
              "      <td>5.680744e+06</td>\n",
              "      <td>5.725634e+06</td>\n",
              "      <td>5.790484e+06</td>\n",
              "    </tr>\n",
              "    <tr>\n",
              "      <th>Age</th>\n",
              "      <td>106987.0</td>\n",
              "      <td>3.831609e+01</td>\n",
              "      <td>2.246621e+01</td>\n",
              "      <td>1.000000e+00</td>\n",
              "      <td>1.900000e+01</td>\n",
              "      <td>3.800000e+01</td>\n",
              "      <td>5.600000e+01</td>\n",
              "      <td>1.150000e+02</td>\n",
              "    </tr>\n",
              "    <tr>\n",
              "      <th>Date.diff</th>\n",
              "      <td>106987.0</td>\n",
              "      <td>1.016672e+01</td>\n",
              "      <td>1.526351e+01</td>\n",
              "      <td>-6.000000e+00</td>\n",
              "      <td>0.000000e+00</td>\n",
              "      <td>4.000000e+00</td>\n",
              "      <td>1.400000e+01</td>\n",
              "      <td>1.790000e+02</td>\n",
              "    </tr>\n",
              "  </tbody>\n",
              "</table>\n",
              "</div>\n",
              "    <div class=\"colab-df-buttons\">\n",
              "\n",
              "  <div class=\"colab-df-container\">\n",
              "    <button class=\"colab-df-convert\" onclick=\"convertToInteractive('df-2a71a7ca-f6cf-48a3-98be-6bdcb2964521')\"\n",
              "            title=\"Convert this dataframe to an interactive table.\"\n",
              "            style=\"display:none;\">\n",
              "\n",
              "  <svg xmlns=\"http://www.w3.org/2000/svg\" height=\"24px\" viewBox=\"0 -960 960 960\">\n",
              "    <path d=\"M120-120v-720h720v720H120Zm60-500h600v-160H180v160Zm220 220h160v-160H400v160Zm0 220h160v-160H400v160ZM180-400h160v-160H180v160Zm440 0h160v-160H620v160ZM180-180h160v-160H180v160Zm440 0h160v-160H620v160Z\"/>\n",
              "  </svg>\n",
              "    </button>\n",
              "\n",
              "  <style>\n",
              "    .colab-df-container {\n",
              "      display:flex;\n",
              "      gap: 12px;\n",
              "    }\n",
              "\n",
              "    .colab-df-convert {\n",
              "      background-color: #E8F0FE;\n",
              "      border: none;\n",
              "      border-radius: 50%;\n",
              "      cursor: pointer;\n",
              "      display: none;\n",
              "      fill: #1967D2;\n",
              "      height: 32px;\n",
              "      padding: 0 0 0 0;\n",
              "      width: 32px;\n",
              "    }\n",
              "\n",
              "    .colab-df-convert:hover {\n",
              "      background-color: #E2EBFA;\n",
              "      box-shadow: 0px 1px 2px rgba(60, 64, 67, 0.3), 0px 1px 3px 1px rgba(60, 64, 67, 0.15);\n",
              "      fill: #174EA6;\n",
              "    }\n",
              "\n",
              "    .colab-df-buttons div {\n",
              "      margin-bottom: 4px;\n",
              "    }\n",
              "\n",
              "    [theme=dark] .colab-df-convert {\n",
              "      background-color: #3B4455;\n",
              "      fill: #D2E3FC;\n",
              "    }\n",
              "\n",
              "    [theme=dark] .colab-df-convert:hover {\n",
              "      background-color: #434B5C;\n",
              "      box-shadow: 0px 1px 3px 1px rgba(0, 0, 0, 0.15);\n",
              "      filter: drop-shadow(0px 1px 2px rgba(0, 0, 0, 0.3));\n",
              "      fill: #FFFFFF;\n",
              "    }\n",
              "  </style>\n",
              "\n",
              "    <script>\n",
              "      const buttonEl =\n",
              "        document.querySelector('#df-2a71a7ca-f6cf-48a3-98be-6bdcb2964521 button.colab-df-convert');\n",
              "      buttonEl.style.display =\n",
              "        google.colab.kernel.accessAllowed ? 'block' : 'none';\n",
              "\n",
              "      async function convertToInteractive(key) {\n",
              "        const element = document.querySelector('#df-2a71a7ca-f6cf-48a3-98be-6bdcb2964521');\n",
              "        const dataTable =\n",
              "          await google.colab.kernel.invokeFunction('convertToInteractive',\n",
              "                                                    [key], {});\n",
              "        if (!dataTable) return;\n",
              "\n",
              "        const docLinkHtml = 'Like what you see? Visit the ' +\n",
              "          '<a target=\"_blank\" href=https://colab.research.google.com/notebooks/data_table.ipynb>data table notebook</a>'\n",
              "          + ' to learn more about interactive tables.';\n",
              "        element.innerHTML = '';\n",
              "        dataTable['output_type'] = 'display_data';\n",
              "        await google.colab.output.renderOutput(dataTable, element);\n",
              "        const docLink = document.createElement('div');\n",
              "        docLink.innerHTML = docLinkHtml;\n",
              "        element.appendChild(docLink);\n",
              "      }\n",
              "    </script>\n",
              "  </div>\n",
              "\n",
              "\n",
              "<div id=\"df-09d78c5d-07c1-4165-9ba8-c9febe007a8d\">\n",
              "  <button class=\"colab-df-quickchart\" onclick=\"quickchart('df-09d78c5d-07c1-4165-9ba8-c9febe007a8d')\"\n",
              "            title=\"Suggest charts\"\n",
              "            style=\"display:none;\">\n",
              "\n",
              "<svg xmlns=\"http://www.w3.org/2000/svg\" height=\"24px\"viewBox=\"0 0 24 24\"\n",
              "     width=\"24px\">\n",
              "    <g>\n",
              "        <path d=\"M19 3H5c-1.1 0-2 .9-2 2v14c0 1.1.9 2 2 2h14c1.1 0 2-.9 2-2V5c0-1.1-.9-2-2-2zM9 17H7v-7h2v7zm4 0h-2V7h2v10zm4 0h-2v-4h2v4z\"/>\n",
              "    </g>\n",
              "</svg>\n",
              "  </button>\n",
              "\n",
              "<style>\n",
              "  .colab-df-quickchart {\n",
              "      --bg-color: #E8F0FE;\n",
              "      --fill-color: #1967D2;\n",
              "      --hover-bg-color: #E2EBFA;\n",
              "      --hover-fill-color: #174EA6;\n",
              "      --disabled-fill-color: #AAA;\n",
              "      --disabled-bg-color: #DDD;\n",
              "  }\n",
              "\n",
              "  [theme=dark] .colab-df-quickchart {\n",
              "      --bg-color: #3B4455;\n",
              "      --fill-color: #D2E3FC;\n",
              "      --hover-bg-color: #434B5C;\n",
              "      --hover-fill-color: #FFFFFF;\n",
              "      --disabled-bg-color: #3B4455;\n",
              "      --disabled-fill-color: #666;\n",
              "  }\n",
              "\n",
              "  .colab-df-quickchart {\n",
              "    background-color: var(--bg-color);\n",
              "    border: none;\n",
              "    border-radius: 50%;\n",
              "    cursor: pointer;\n",
              "    display: none;\n",
              "    fill: var(--fill-color);\n",
              "    height: 32px;\n",
              "    padding: 0;\n",
              "    width: 32px;\n",
              "  }\n",
              "\n",
              "  .colab-df-quickchart:hover {\n",
              "    background-color: var(--hover-bg-color);\n",
              "    box-shadow: 0 1px 2px rgba(60, 64, 67, 0.3), 0 1px 3px 1px rgba(60, 64, 67, 0.15);\n",
              "    fill: var(--button-hover-fill-color);\n",
              "  }\n",
              "\n",
              "  .colab-df-quickchart-complete:disabled,\n",
              "  .colab-df-quickchart-complete:disabled:hover {\n",
              "    background-color: var(--disabled-bg-color);\n",
              "    fill: var(--disabled-fill-color);\n",
              "    box-shadow: none;\n",
              "  }\n",
              "\n",
              "  .colab-df-spinner {\n",
              "    border: 2px solid var(--fill-color);\n",
              "    border-color: transparent;\n",
              "    border-bottom-color: var(--fill-color);\n",
              "    animation:\n",
              "      spin 1s steps(1) infinite;\n",
              "  }\n",
              "\n",
              "  @keyframes spin {\n",
              "    0% {\n",
              "      border-color: transparent;\n",
              "      border-bottom-color: var(--fill-color);\n",
              "      border-left-color: var(--fill-color);\n",
              "    }\n",
              "    20% {\n",
              "      border-color: transparent;\n",
              "      border-left-color: var(--fill-color);\n",
              "      border-top-color: var(--fill-color);\n",
              "    }\n",
              "    30% {\n",
              "      border-color: transparent;\n",
              "      border-left-color: var(--fill-color);\n",
              "      border-top-color: var(--fill-color);\n",
              "      border-right-color: var(--fill-color);\n",
              "    }\n",
              "    40% {\n",
              "      border-color: transparent;\n",
              "      border-right-color: var(--fill-color);\n",
              "      border-top-color: var(--fill-color);\n",
              "    }\n",
              "    60% {\n",
              "      border-color: transparent;\n",
              "      border-right-color: var(--fill-color);\n",
              "    }\n",
              "    80% {\n",
              "      border-color: transparent;\n",
              "      border-right-color: var(--fill-color);\n",
              "      border-bottom-color: var(--fill-color);\n",
              "    }\n",
              "    90% {\n",
              "      border-color: transparent;\n",
              "      border-bottom-color: var(--fill-color);\n",
              "    }\n",
              "  }\n",
              "</style>\n",
              "\n",
              "  <script>\n",
              "    async function quickchart(key) {\n",
              "      const quickchartButtonEl =\n",
              "        document.querySelector('#' + key + ' button');\n",
              "      quickchartButtonEl.disabled = true;  // To prevent multiple clicks.\n",
              "      quickchartButtonEl.classList.add('colab-df-spinner');\n",
              "      try {\n",
              "        const charts = await google.colab.kernel.invokeFunction(\n",
              "            'suggestCharts', [key], {});\n",
              "      } catch (error) {\n",
              "        console.error('Error during call to suggestCharts:', error);\n",
              "      }\n",
              "      quickchartButtonEl.classList.remove('colab-df-spinner');\n",
              "      quickchartButtonEl.classList.add('colab-df-quickchart-complete');\n",
              "    }\n",
              "    (() => {\n",
              "      let quickchartButtonEl =\n",
              "        document.querySelector('#df-09d78c5d-07c1-4165-9ba8-c9febe007a8d button');\n",
              "      quickchartButtonEl.style.display =\n",
              "        google.colab.kernel.accessAllowed ? 'block' : 'none';\n",
              "    })();\n",
              "  </script>\n",
              "</div>\n",
              "\n",
              "    </div>\n",
              "  </div>\n"
            ],
            "application/vnd.google.colaboratory.intrinsic+json": {
              "type": "dataframe",
              "summary": "{\n  \"name\": \"df\",\n  \"rows\": 4,\n  \"fields\": [\n    {\n      \"column\": \"count\",\n      \"properties\": {\n        \"dtype\": \"number\",\n        \"std\": 0.0,\n        \"min\": 106987.0,\n        \"max\": 106987.0,\n        \"num_unique_values\": 1,\n        \"samples\": [\n          106987.0\n        ],\n        \"semantic_type\": \"\",\n        \"description\": \"\"\n      }\n    },\n    {\n      \"column\": \"mean\",\n      \"properties\": {\n        \"dtype\": \"number\",\n        \"std\": 73640684862452.64,\n        \"min\": 10.166721190425005,\n        \"max\": 147281371616732.75,\n        \"num_unique_values\": 4,\n        \"samples\": [\n          5675434.199715854\n        ],\n        \"semantic_type\": \"\",\n        \"description\": \"\"\n      }\n    },\n    {\n      \"column\": \"std\",\n      \"properties\": {\n        \"dtype\": \"number\",\n        \"std\": 127913337091491.31,\n        \"min\": 15.263507527766855,\n        \"max\": 255826674206772.78,\n        \"num_unique_values\": 4,\n        \"samples\": [\n          71332.74134165712\n        ],\n        \"semantic_type\": \"\",\n        \"description\": \"\"\n      }\n    },\n    {\n      \"column\": \"min\",\n      \"properties\": {\n        \"dtype\": \"number\",\n        \"std\": 2508647.657213035,\n        \"min\": -6.0,\n        \"max\": 5030230.0,\n        \"num_unique_values\": 4,\n        \"samples\": [\n          5030230.0\n        ],\n        \"semantic_type\": \"\",\n        \"description\": \"\"\n      }\n    },\n    {\n      \"column\": \"25%\",\n      \"properties\": {\n        \"dtype\": \"number\",\n        \"std\": 2086760431933.444,\n        \"min\": 0.0,\n        \"max\": 4173522744033.0,\n        \"num_unique_values\": 4,\n        \"samples\": [\n          5640489.5\n        ],\n        \"semantic_type\": \"\",\n        \"description\": \"\"\n      }\n    },\n    {\n      \"column\": \"50%\",\n      \"properties\": {\n        \"dtype\": \"number\",\n        \"std\": 15862312635926.06,\n        \"min\": 4.0,\n        \"max\": 31724627165447.0,\n        \"num_unique_values\": 4,\n        \"samples\": [\n          5680744.0\n        ],\n        \"semantic_type\": \"\",\n        \"description\": \"\"\n      }\n    },\n    {\n      \"column\": \"75%\",\n      \"properties\": {\n        \"dtype\": \"number\",\n        \"std\": 47167996830100.5,\n        \"min\": 14.0,\n        \"max\": 94335995568769.0,\n        \"num_unique_values\": 4,\n        \"samples\": [\n          5725634.5\n        ],\n        \"semantic_type\": \"\",\n        \"description\": \"\"\n      }\n    },\n    {\n      \"column\": \"max\",\n      \"properties\": {\n        \"dtype\": \"number\",\n        \"std\": 499990814921083.8,\n        \"min\": 115.0,\n        \"max\": 999981631772427.0,\n        \"num_unique_values\": 4,\n        \"samples\": [\n          5790484.0\n        ],\n        \"semantic_type\": \"\",\n        \"description\": \"\"\n      }\n    }\n  ]\n}"
            }
          },
          "metadata": {},
          "execution_count": 14
        }
      ]
    },
    {
      "cell_type": "markdown",
      "source": [
        "\n",
        "Age sütunu, hastaların yaşını ifade eder. Yaşın ortalaması 38.3 yıl olup, standart sapma 22.5'tir. Yaş aralığı 1 ile 115 yıl arasında değişmektedir. Minimum yaş değeri olan 1 yaş, yaş aralığının başlangıcındaki çok küçük bir değeri işaret edebilir, ancak veri setinde doğrudan hatalı veya olağan dışı yaşlar olmadığını gösteriyor. Yaşın genel olarak dağılımı düzgün görünüyor.\n",
        "\n",
        "Date.diff sütunu, randevu tarihi ile randevu için belirlenen tarih arasındaki farkı (gün cinsinden) ifade eder. Bu sütunun ortalama değeri 10.17 gün olup, standart sapma 15.26'dır. Minimum değer -6 olarak gözükse de, bu durum genellikle hata veya veri giriş hatası olabilir (örneğin, geçmiş tarihlerde yapılan randevuların güncellenmesi). Maksimum değer 179 gün ile, bazı randevuların oldukça uzun süre önce planlandığını gösteriyor."
      ],
      "metadata": {
        "id": "c8vZr592uczf"
      }
    },
    {
      "cell_type": "code",
      "source": [
        "df.groupby(\"Gender\")[\"Showed_up\"].describe().T"
      ],
      "metadata": {
        "colab": {
          "base_uri": "https://localhost:8080/",
          "height": 175
        },
        "id": "hoj9nPaG0d0x",
        "outputId": "6788136c-7e33-44a1-d312-2c6bf3cbf7d2"
      },
      "execution_count": 15,
      "outputs": [
        {
          "output_type": "execute_result",
          "data": {
            "text/plain": [
              "Gender      F      M\n",
              "count   70118  36869\n",
              "unique      2      2\n",
              "top      True   True\n",
              "freq    55843  29464"
            ],
            "text/html": [
              "\n",
              "  <div id=\"df-78cfeb8a-d750-4b18-ae5f-cabb0d04146a\" class=\"colab-df-container\">\n",
              "    <div>\n",
              "<style scoped>\n",
              "    .dataframe tbody tr th:only-of-type {\n",
              "        vertical-align: middle;\n",
              "    }\n",
              "\n",
              "    .dataframe tbody tr th {\n",
              "        vertical-align: top;\n",
              "    }\n",
              "\n",
              "    .dataframe thead th {\n",
              "        text-align: right;\n",
              "    }\n",
              "</style>\n",
              "<table border=\"1\" class=\"dataframe\">\n",
              "  <thead>\n",
              "    <tr style=\"text-align: right;\">\n",
              "      <th>Gender</th>\n",
              "      <th>F</th>\n",
              "      <th>M</th>\n",
              "    </tr>\n",
              "  </thead>\n",
              "  <tbody>\n",
              "    <tr>\n",
              "      <th>count</th>\n",
              "      <td>70118</td>\n",
              "      <td>36869</td>\n",
              "    </tr>\n",
              "    <tr>\n",
              "      <th>unique</th>\n",
              "      <td>2</td>\n",
              "      <td>2</td>\n",
              "    </tr>\n",
              "    <tr>\n",
              "      <th>top</th>\n",
              "      <td>True</td>\n",
              "      <td>True</td>\n",
              "    </tr>\n",
              "    <tr>\n",
              "      <th>freq</th>\n",
              "      <td>55843</td>\n",
              "      <td>29464</td>\n",
              "    </tr>\n",
              "  </tbody>\n",
              "</table>\n",
              "</div>\n",
              "    <div class=\"colab-df-buttons\">\n",
              "\n",
              "  <div class=\"colab-df-container\">\n",
              "    <button class=\"colab-df-convert\" onclick=\"convertToInteractive('df-78cfeb8a-d750-4b18-ae5f-cabb0d04146a')\"\n",
              "            title=\"Convert this dataframe to an interactive table.\"\n",
              "            style=\"display:none;\">\n",
              "\n",
              "  <svg xmlns=\"http://www.w3.org/2000/svg\" height=\"24px\" viewBox=\"0 -960 960 960\">\n",
              "    <path d=\"M120-120v-720h720v720H120Zm60-500h600v-160H180v160Zm220 220h160v-160H400v160Zm0 220h160v-160H400v160ZM180-400h160v-160H180v160Zm440 0h160v-160H620v160ZM180-180h160v-160H180v160Zm440 0h160v-160H620v160Z\"/>\n",
              "  </svg>\n",
              "    </button>\n",
              "\n",
              "  <style>\n",
              "    .colab-df-container {\n",
              "      display:flex;\n",
              "      gap: 12px;\n",
              "    }\n",
              "\n",
              "    .colab-df-convert {\n",
              "      background-color: #E8F0FE;\n",
              "      border: none;\n",
              "      border-radius: 50%;\n",
              "      cursor: pointer;\n",
              "      display: none;\n",
              "      fill: #1967D2;\n",
              "      height: 32px;\n",
              "      padding: 0 0 0 0;\n",
              "      width: 32px;\n",
              "    }\n",
              "\n",
              "    .colab-df-convert:hover {\n",
              "      background-color: #E2EBFA;\n",
              "      box-shadow: 0px 1px 2px rgba(60, 64, 67, 0.3), 0px 1px 3px 1px rgba(60, 64, 67, 0.15);\n",
              "      fill: #174EA6;\n",
              "    }\n",
              "\n",
              "    .colab-df-buttons div {\n",
              "      margin-bottom: 4px;\n",
              "    }\n",
              "\n",
              "    [theme=dark] .colab-df-convert {\n",
              "      background-color: #3B4455;\n",
              "      fill: #D2E3FC;\n",
              "    }\n",
              "\n",
              "    [theme=dark] .colab-df-convert:hover {\n",
              "      background-color: #434B5C;\n",
              "      box-shadow: 0px 1px 3px 1px rgba(0, 0, 0, 0.15);\n",
              "      filter: drop-shadow(0px 1px 2px rgba(0, 0, 0, 0.3));\n",
              "      fill: #FFFFFF;\n",
              "    }\n",
              "  </style>\n",
              "\n",
              "    <script>\n",
              "      const buttonEl =\n",
              "        document.querySelector('#df-78cfeb8a-d750-4b18-ae5f-cabb0d04146a button.colab-df-convert');\n",
              "      buttonEl.style.display =\n",
              "        google.colab.kernel.accessAllowed ? 'block' : 'none';\n",
              "\n",
              "      async function convertToInteractive(key) {\n",
              "        const element = document.querySelector('#df-78cfeb8a-d750-4b18-ae5f-cabb0d04146a');\n",
              "        const dataTable =\n",
              "          await google.colab.kernel.invokeFunction('convertToInteractive',\n",
              "                                                    [key], {});\n",
              "        if (!dataTable) return;\n",
              "\n",
              "        const docLinkHtml = 'Like what you see? Visit the ' +\n",
              "          '<a target=\"_blank\" href=https://colab.research.google.com/notebooks/data_table.ipynb>data table notebook</a>'\n",
              "          + ' to learn more about interactive tables.';\n",
              "        element.innerHTML = '';\n",
              "        dataTable['output_type'] = 'display_data';\n",
              "        await google.colab.output.renderOutput(dataTable, element);\n",
              "        const docLink = document.createElement('div');\n",
              "        docLink.innerHTML = docLinkHtml;\n",
              "        element.appendChild(docLink);\n",
              "      }\n",
              "    </script>\n",
              "  </div>\n",
              "\n",
              "\n",
              "<div id=\"df-92073d4f-8e97-4d67-9f6b-7ad327cf7417\">\n",
              "  <button class=\"colab-df-quickchart\" onclick=\"quickchart('df-92073d4f-8e97-4d67-9f6b-7ad327cf7417')\"\n",
              "            title=\"Suggest charts\"\n",
              "            style=\"display:none;\">\n",
              "\n",
              "<svg xmlns=\"http://www.w3.org/2000/svg\" height=\"24px\"viewBox=\"0 0 24 24\"\n",
              "     width=\"24px\">\n",
              "    <g>\n",
              "        <path d=\"M19 3H5c-1.1 0-2 .9-2 2v14c0 1.1.9 2 2 2h14c1.1 0 2-.9 2-2V5c0-1.1-.9-2-2-2zM9 17H7v-7h2v7zm4 0h-2V7h2v10zm4 0h-2v-4h2v4z\"/>\n",
              "    </g>\n",
              "</svg>\n",
              "  </button>\n",
              "\n",
              "<style>\n",
              "  .colab-df-quickchart {\n",
              "      --bg-color: #E8F0FE;\n",
              "      --fill-color: #1967D2;\n",
              "      --hover-bg-color: #E2EBFA;\n",
              "      --hover-fill-color: #174EA6;\n",
              "      --disabled-fill-color: #AAA;\n",
              "      --disabled-bg-color: #DDD;\n",
              "  }\n",
              "\n",
              "  [theme=dark] .colab-df-quickchart {\n",
              "      --bg-color: #3B4455;\n",
              "      --fill-color: #D2E3FC;\n",
              "      --hover-bg-color: #434B5C;\n",
              "      --hover-fill-color: #FFFFFF;\n",
              "      --disabled-bg-color: #3B4455;\n",
              "      --disabled-fill-color: #666;\n",
              "  }\n",
              "\n",
              "  .colab-df-quickchart {\n",
              "    background-color: var(--bg-color);\n",
              "    border: none;\n",
              "    border-radius: 50%;\n",
              "    cursor: pointer;\n",
              "    display: none;\n",
              "    fill: var(--fill-color);\n",
              "    height: 32px;\n",
              "    padding: 0;\n",
              "    width: 32px;\n",
              "  }\n",
              "\n",
              "  .colab-df-quickchart:hover {\n",
              "    background-color: var(--hover-bg-color);\n",
              "    box-shadow: 0 1px 2px rgba(60, 64, 67, 0.3), 0 1px 3px 1px rgba(60, 64, 67, 0.15);\n",
              "    fill: var(--button-hover-fill-color);\n",
              "  }\n",
              "\n",
              "  .colab-df-quickchart-complete:disabled,\n",
              "  .colab-df-quickchart-complete:disabled:hover {\n",
              "    background-color: var(--disabled-bg-color);\n",
              "    fill: var(--disabled-fill-color);\n",
              "    box-shadow: none;\n",
              "  }\n",
              "\n",
              "  .colab-df-spinner {\n",
              "    border: 2px solid var(--fill-color);\n",
              "    border-color: transparent;\n",
              "    border-bottom-color: var(--fill-color);\n",
              "    animation:\n",
              "      spin 1s steps(1) infinite;\n",
              "  }\n",
              "\n",
              "  @keyframes spin {\n",
              "    0% {\n",
              "      border-color: transparent;\n",
              "      border-bottom-color: var(--fill-color);\n",
              "      border-left-color: var(--fill-color);\n",
              "    }\n",
              "    20% {\n",
              "      border-color: transparent;\n",
              "      border-left-color: var(--fill-color);\n",
              "      border-top-color: var(--fill-color);\n",
              "    }\n",
              "    30% {\n",
              "      border-color: transparent;\n",
              "      border-left-color: var(--fill-color);\n",
              "      border-top-color: var(--fill-color);\n",
              "      border-right-color: var(--fill-color);\n",
              "    }\n",
              "    40% {\n",
              "      border-color: transparent;\n",
              "      border-right-color: var(--fill-color);\n",
              "      border-top-color: var(--fill-color);\n",
              "    }\n",
              "    60% {\n",
              "      border-color: transparent;\n",
              "      border-right-color: var(--fill-color);\n",
              "    }\n",
              "    80% {\n",
              "      border-color: transparent;\n",
              "      border-right-color: var(--fill-color);\n",
              "      border-bottom-color: var(--fill-color);\n",
              "    }\n",
              "    90% {\n",
              "      border-color: transparent;\n",
              "      border-bottom-color: var(--fill-color);\n",
              "    }\n",
              "  }\n",
              "</style>\n",
              "\n",
              "  <script>\n",
              "    async function quickchart(key) {\n",
              "      const quickchartButtonEl =\n",
              "        document.querySelector('#' + key + ' button');\n",
              "      quickchartButtonEl.disabled = true;  // To prevent multiple clicks.\n",
              "      quickchartButtonEl.classList.add('colab-df-spinner');\n",
              "      try {\n",
              "        const charts = await google.colab.kernel.invokeFunction(\n",
              "            'suggestCharts', [key], {});\n",
              "      } catch (error) {\n",
              "        console.error('Error during call to suggestCharts:', error);\n",
              "      }\n",
              "      quickchartButtonEl.classList.remove('colab-df-spinner');\n",
              "      quickchartButtonEl.classList.add('colab-df-quickchart-complete');\n",
              "    }\n",
              "    (() => {\n",
              "      let quickchartButtonEl =\n",
              "        document.querySelector('#df-92073d4f-8e97-4d67-9f6b-7ad327cf7417 button');\n",
              "      quickchartButtonEl.style.display =\n",
              "        google.colab.kernel.accessAllowed ? 'block' : 'none';\n",
              "    })();\n",
              "  </script>\n",
              "</div>\n",
              "\n",
              "    </div>\n",
              "  </div>\n"
            ],
            "application/vnd.google.colaboratory.intrinsic+json": {
              "type": "dataframe",
              "summary": "{\n  \"name\": \"df\",\n  \"rows\": 4,\n  \"fields\": [\n    {\n      \"column\": \"F\",\n      \"properties\": {\n        \"dtype\": \"string\",\n        \"num_unique_values\": 4,\n        \"samples\": [\n          2,\n          \"55843\",\n          \"70118\"\n        ],\n        \"semantic_type\": \"\",\n        \"description\": \"\"\n      }\n    },\n    {\n      \"column\": \"M\",\n      \"properties\": {\n        \"dtype\": \"string\",\n        \"num_unique_values\": 4,\n        \"samples\": [\n          2,\n          \"29464\",\n          \"36869\"\n        ],\n        \"semantic_type\": \"\",\n        \"description\": \"\"\n      }\n    }\n  ]\n}"
            }
          },
          "metadata": {},
          "execution_count": 15
        }
      ]
    },
    {
      "cell_type": "markdown",
      "source": [
        "Burada cinsiyete göre temel istatistiksel bilgiler oluşturulmuştur; count kısmında kadınların toplam sayısı ve erkeklerin toplam sayısı ifade edilmiş, unique kısmında benzersiz değer sayısı gösterilmiş, Top kısmında en yaygın değerleri verilmiş yani burada kadınların ve erkeklerin büyük çoğunluğunun rendevularına geldikleri gösteriliyor, freq kısmında ise en yaygın değerin görülme sayısı verilmiştir."
      ],
      "metadata": {
        "id": "MB4RxpRjqoG0"
      }
    },
    {
      "cell_type": "code",
      "source": [
        "df.duplicated().sum()"
      ],
      "metadata": {
        "colab": {
          "base_uri": "https://localhost:8080/"
        },
        "id": "MvujensloqwO",
        "outputId": "b0cc897c-cf36-419d-abee-8299cfce68a1"
      },
      "execution_count": 16,
      "outputs": [
        {
          "output_type": "execute_result",
          "data": {
            "text/plain": [
              "0"
            ]
          },
          "metadata": {},
          "execution_count": 16
        }
      ]
    },
    {
      "cell_type": "markdown",
      "source": [
        "Burada duplicated ifadesi benzersiz değerleri göstermektedir. Burada 0 değerinin olması veri seti içinde hiçbir tekrarlanan değerin olmadığını söyler. Yani, her satır benzersizdir ve veri setinizdeki tüm satırlar farklıdır."
      ],
      "metadata": {
        "id": "zNVzQAM-sHEY"
      }
    },
    {
      "cell_type": "code",
      "source": [
        "df.isnull().sum()"
      ],
      "metadata": {
        "colab": {
          "base_uri": "https://localhost:8080/",
          "height": 554
        },
        "id": "c_kCZ8Hkopin",
        "outputId": "8d33586e-096d-4014-f1b0-f99b45fc9007"
      },
      "execution_count": 17,
      "outputs": [
        {
          "output_type": "execute_result",
          "data": {
            "text/plain": [
              "PatientId         0\n",
              "AppointmentID     0\n",
              "Gender            0\n",
              "ScheduledDay      0\n",
              "AppointmentDay    0\n",
              "Age               0\n",
              "Neighbourhood     0\n",
              "Scholarship       0\n",
              "Hipertension      0\n",
              "Diabetes          0\n",
              "Alcoholism        0\n",
              "Handcap           0\n",
              "SMS_received      0\n",
              "Showed_up         0\n",
              "Date.diff         0\n",
              "dtype: int64"
            ],
            "text/html": [
              "<div>\n",
              "<style scoped>\n",
              "    .dataframe tbody tr th:only-of-type {\n",
              "        vertical-align: middle;\n",
              "    }\n",
              "\n",
              "    .dataframe tbody tr th {\n",
              "        vertical-align: top;\n",
              "    }\n",
              "\n",
              "    .dataframe thead th {\n",
              "        text-align: right;\n",
              "    }\n",
              "</style>\n",
              "<table border=\"1\" class=\"dataframe\">\n",
              "  <thead>\n",
              "    <tr style=\"text-align: right;\">\n",
              "      <th></th>\n",
              "      <th>0</th>\n",
              "    </tr>\n",
              "  </thead>\n",
              "  <tbody>\n",
              "    <tr>\n",
              "      <th>PatientId</th>\n",
              "      <td>0</td>\n",
              "    </tr>\n",
              "    <tr>\n",
              "      <th>AppointmentID</th>\n",
              "      <td>0</td>\n",
              "    </tr>\n",
              "    <tr>\n",
              "      <th>Gender</th>\n",
              "      <td>0</td>\n",
              "    </tr>\n",
              "    <tr>\n",
              "      <th>ScheduledDay</th>\n",
              "      <td>0</td>\n",
              "    </tr>\n",
              "    <tr>\n",
              "      <th>AppointmentDay</th>\n",
              "      <td>0</td>\n",
              "    </tr>\n",
              "    <tr>\n",
              "      <th>Age</th>\n",
              "      <td>0</td>\n",
              "    </tr>\n",
              "    <tr>\n",
              "      <th>Neighbourhood</th>\n",
              "      <td>0</td>\n",
              "    </tr>\n",
              "    <tr>\n",
              "      <th>Scholarship</th>\n",
              "      <td>0</td>\n",
              "    </tr>\n",
              "    <tr>\n",
              "      <th>Hipertension</th>\n",
              "      <td>0</td>\n",
              "    </tr>\n",
              "    <tr>\n",
              "      <th>Diabetes</th>\n",
              "      <td>0</td>\n",
              "    </tr>\n",
              "    <tr>\n",
              "      <th>Alcoholism</th>\n",
              "      <td>0</td>\n",
              "    </tr>\n",
              "    <tr>\n",
              "      <th>Handcap</th>\n",
              "      <td>0</td>\n",
              "    </tr>\n",
              "    <tr>\n",
              "      <th>SMS_received</th>\n",
              "      <td>0</td>\n",
              "    </tr>\n",
              "    <tr>\n",
              "      <th>Showed_up</th>\n",
              "      <td>0</td>\n",
              "    </tr>\n",
              "    <tr>\n",
              "      <th>Date.diff</th>\n",
              "      <td>0</td>\n",
              "    </tr>\n",
              "  </tbody>\n",
              "</table>\n",
              "</div><br><label><b>dtype:</b> int64</label>"
            ]
          },
          "metadata": {},
          "execution_count": 17
        }
      ]
    },
    {
      "cell_type": "markdown",
      "source": [
        "Burada isnull().sum() ile hiçbir boş değerin olmadığını ifade eder."
      ],
      "metadata": {
        "id": "sCrqqyq0saiu"
      }
    },
    {
      "cell_type": "code",
      "source": [
        "diabetes =  pd.crosstab(df['Showed_up'], df['Diabetes'], margins=True)\n",
        "hipertension = pd.crosstab(df['Showed_up'], df['Hipertension'], margins=True)\n",
        "alchol = pd.crosstab(df['Showed_up'], df['Alcoholism'], margins=True)\n",
        "handcap = pd.crosstab(df['Showed_up'], df['Handcap'], margins=True)\n",
        "\n",
        "print(diabetes, \"\\n\",\"\\n\", hipertension, \"\\n\", \"\\n\", alchol, \"\\n\", \"\\n\", handcap)"
      ],
      "metadata": {
        "colab": {
          "base_uri": "https://localhost:8080/"
        },
        "id": "oCsFaWgtp0Ex",
        "outputId": "8e0321a3-f179-4062-935e-fe8dd2067be6"
      },
      "execution_count": null,
      "outputs": [
        {
          "output_type": "stream",
          "name": "stdout",
          "text": [
            "Diabetes   False  True     All\n",
            "Showed_up                     \n",
            "False      20250  1430   21680\n",
            "True       78794  6513   85307\n",
            "All        99044  7943  106987 \n",
            " \n",
            " Hipertension  False   True     All\n",
            "Showed_up                         \n",
            "False         17908   3772   21680\n",
            "True          67278  18029   85307\n",
            "All           85186  21801  106987 \n",
            " \n",
            " Alcoholism   False  True     All\n",
            "Showed_up                       \n",
            "False        21003   677   21680\n",
            "True         82624  2683   85307\n",
            "All         103627  3360  106987 \n",
            " \n",
            " Handcap     False  True     All\n",
            "Showed_up                      \n",
            "False       21273   407   21680\n",
            "True        83474  1833   85307\n",
            "All        104747  2240  106987\n"
          ]
        }
      ]
    },
    {
      "cell_type": "markdown",
      "source": [
        "1. Diabetes (Diyabet):\n",
        "Bu tablo, Diabetes (Diyabet) durumu ile randevuya gelme durumunun ilişkisini göstermektedir. False değeri, kişilerin diyabeti olmadığını, True değeri ise kişilerin diyabet hastası olduğunu belirtir. Randevuya gelmeyenler (Showed_up: False), diyabeti olmayan 20,250 kişiden ve diyabeti olan 1,430 kişiden oluşuyor, toplamda 21,680 kişi randevuya gelmemiştir. Randevuya gelenler (Showed_up: True) ise diyabeti olmayan 78,794 kişiden ve diyabeti olan 6,513 kişiden oluşuyor, toplamda 85,307 kişi randevuya gelmiştir. Son olarak, tüm veri kümesi üzerinden All sütunu, diyabeti olmayan 99,044 kişi ve diyabeti olan 7,943 kişiyi kapsayarak toplamda 106,987 bireyden bahsetmektedir.\n",
        "\n",
        "2. Hipertension (Hipertansiyon):\n",
        "Hipertansiyon durumu ile randevuya gelme arasındaki ilişkiyi gösteren tabloda, hipertansiyonu olmayan (False) ve hipertansiyonu olan (True) kişilerin sayıları verilmiştir. Randevuya gelmeyenler (Showed_up: False), hipertansiyonu olmayan 17,908 kişi ve hipertansiyonu olan 3,772 kişiden oluşarak toplamda 21,680 kişiyi oluşturuyor. Randevuya gelenler (Showed_up: True) ise hipertansiyonu olmayan 67,278 kişi ve hipertansiyonu olan 18,029 kişiden oluşuyor, bu da toplamda 85,307 kişiyi temsil ediyor. All sütununda ise tüm veri kümesindeki hipertansiyonu olmayan 85,186 kişi ve hipertansiyonu olan 21,801 kişi yer alıyor, toplamda 106,987 kişi var.\n",
        "\n",
        "3. Alcoholism (Alkol Bağımlılığı):\n",
        "Bu tablo, alkol bağımlılığı durumu ile randevuya gelme ilişkisini gösteriyor. False değeri, kişilerin alkol bağımlılığı olmadığını, True değeri ise kişilerin alkol bağımlılığı olduğunu ifade eder. Randevuya gelmeyenler (Showed_up: False), alkol bağımlılığı olmayan 21,003 kişi ve alkol bağımlılığı olan 677 kişiden oluşuyor, toplamda 21,680 kişi randevuya gelmemiştir. Randevuya gelenler (Showed_up: True) ise alkol bağımlılığı olmayan 82,624 kişi ve alkol bağımlılığı olan 2,683 kişiden oluşuyor, toplamda 85,307 kişi randevuya gelmiştir. All sütununda, alkol bağımlılığı olmayan 103,627 kişi ve alkol bağımlılığı olan 3,360 kişi yer alıyor, toplamda 106,987 kişiyi kapsamaktadır.\n",
        "\n",
        "4. Handcap (Engellilik Durumu):\n",
        "Handcap (Engellilik durumu) ile randevuya gelme arasındaki ilişkiyi gösteren tabloda, engelli olmayan (False) ve engelli (True) kişilerin sayıları verilmiştir. Randevuya gelmeyenler (Showed_up: False), engelli olmayan 21,273 kişi ve engelli 407 kişiden oluşuyor, toplamda 21,680 kişi randevuya gelmemiştir. Randevuya gelenler (Showed_up: True) ise engelli olmayan 83,474 kişi ve engelli 1,833 kişiden oluşuyor, bu da toplamda 85,307 kişiyi oluşturuyor. All sütununda engelli olmayan 104,747 kişi ve engelli 2,240 kişi yer almakta, toplamda 106,987 kişi bulunmaktadır."
      ],
      "metadata": {
        "id": "rr67OGhMt9s_"
      }
    },
    {
      "cell_type": "code",
      "source": [
        "plt.figure(figsize=(17,6))\n",
        "plt.subplot(2, 2, 1)\n",
        "\n",
        "\n",
        "plt.pie(\n",
        "    [diabetes.loc[True, True], diabetes.loc[False, True]],\n",
        "    labels=['Randevuya Katıldı', 'Randevuya Katılmadı'],\n",
        "    autopct='%1.1f%%',\n",
        "    startangle=90,\n",
        "    colors=['#4CAF50', '#FF6347']\n",
        ")\n",
        "plt.title(\"Diyabeti Olanların Randevu Katılımı\")\n",
        "\n",
        "plt.subplot(2, 2, 2)\n",
        "plt.pie(\n",
        "    [hipertension.loc[True, True], hipertension.loc[False, True]],\n",
        "    labels=['Randevuya Katıldı', 'Randevuya Katılmadı'],\n",
        "    autopct='%1.1f%%',\n",
        "    startangle=90,\n",
        "    colors=['#6495ED', '#FF6347']\n",
        ")\n",
        "plt.title(\"Hipertansiyonu Olanların Randevu Katılımı\")\n",
        "\n",
        "plt.subplot(2, 2, 3)\n",
        "plt.pie(\n",
        "    [alchol.loc[True, True], alchol.loc[False, True]],\n",
        "    labels=['Randevuya Katıldı', 'Randevuya Katılmadı'],\n",
        "    autopct='%1.1f%%',\n",
        "    startangle=90,\n",
        "    colors=['#FFD700', '#FF6347']\n",
        ")\n",
        "plt.title(\"Alkol Sorunu Olanların Randevu Katılımı\")\n",
        "\n",
        "plt.subplot(2, 2, 4)\n",
        "plt.pie(\n",
        "    [handcap.loc[True, True], handcap.loc[False, True]],\n",
        "    labels=['Randevuya Katıldı', 'Randevuya Katılmadı'],\n",
        "    autopct='%1.1f%%',\n",
        "    startangle=90,\n",
        "    colors=['#898121', '#FF6347']\n",
        ")\n",
        "plt.title(\"Engel Durumu Olanların Randevu Katılımı\")\n",
        "\n",
        "plt.tight_layout()\n",
        "plt.show()"
      ],
      "metadata": {
        "colab": {
          "base_uri": "https://localhost:8080/",
          "height": 607
        },
        "id": "5IliOAN7u7HG",
        "outputId": "8331f365-ed58-4cd8-a76b-001f09e1d3a6"
      },
      "execution_count": null,
      "outputs": [
        {
          "output_type": "display_data",
          "data": {
            "text/plain": [
              "<Figure size 1700x600 with 4 Axes>"
            ],
            "image/png": "[encoded data removed]"
          },
          "metadata": {}
        }
      ]
    },
    {
      "cell_type": "code",
      "source": [
        "sms_data = df.groupby(\"Showed_up\").agg({\"SMS_received\": \"sum\"})\n",
        "\n",
        "plt.figure(figsize=(17,6))\n",
        "sms_data.plot(kind='bar', legend=False, color=['#4CAF50', '#FF6347'])\n",
        "plt.title(\"Randevu Katılım Durumuna Göre Alınan SMS Sayısı\")\n",
        "plt.xlabel(\"Randevu Katılım Durumu\")\n",
        "plt.ylabel(\"Toplam SMS Sayısı\")\n",
        "plt.xticks(ticks=[0, 1], labels=[\"Katılmadı\", \"Katıldı\"], rotation=20)\n",
        "\n",
        "plt.show()"
      ],
      "metadata": {
        "colab": {
          "base_uri": "https://localhost:8080/",
          "height": 510
        },
        "id": "3vrAWvOzv6v6",
        "outputId": "96991164-2a81-4a22-8e29-1a9ed5110abc"
      },
      "execution_count": null,
      "outputs": [
        {
          "output_type": "display_data",
          "data": {
            "text/plain": [
              "<Figure size 1700x600 with 0 Axes>"
            ]
          },
          "metadata": {}
        },
        {
          "output_type": "display_data",
          "data": {
            "text/plain": [
              "<Figure size 640x480 with 1 Axes>"
            ],
            "image/png": "[encoded data removed]"
          },
          "metadata": {}
        }
      ]
    },
    {
      "cell_type": "code",
      "source": [
        "neighbourhood_data = df.groupby(\"Neighbourhood\").agg({\"Showed_up\": \"sum\"}).sort_values(by=\"Showed_up\", ascending=False)\n",
        "\n",
        "top_neighbourhoods = neighbourhood_data.head(10)\n",
        "\n",
        "plt.figure(figsize=(12, 8))\n",
        "top_neighbourhoods.plot(kind='bar', legend=False, color='#4CAF50')\n",
        "\n",
        "plt.title(\"En Yüksek Randevu Katılımına Sahip İlk 10 Mahalle\")\n",
        "plt.xlabel(\"Mahalle\")\n",
        "plt.ylabel(\"Toplam Randevu Katılım Sayısı\")\n",
        "plt.xticks(rotation=45)\n",
        "\n",
        "plt.show()"
      ],
      "metadata": {
        "colab": {
          "base_uri": "https://localhost:8080/",
          "height": 576
        },
        "id": "WH-dhW9rqRSc",
        "outputId": "985fe2cc-75fb-4321-901b-8dd23b51d7b5"
      },
      "execution_count": null,
      "outputs": [
        {
          "output_type": "display_data",
          "data": {
            "text/plain": [
              "<Figure size 1200x800 with 0 Axes>"
            ]
          },
          "metadata": {}
        },
        {
          "output_type": "display_data",
          "data": {
            "text/plain": [
              "<Figure size 640x480 with 1 Axes>"
            ],
            "image/png": "[encoded data removed]"
          },
          "metadata": {}
        }
      ]
    },
    {
      "cell_type": "code",
      "source": [
        "neighbourhood_data = df.groupby(\"Neighbourhood\").agg({\"Showed_up\": \"sum\"})\n",
        "\n",
        "bottom_neighbourhoods = neighbourhood_data.nsmallest(10, \"Showed_up\")\n",
        "\n",
        "plt.figure(figsize=(12, 8))\n",
        "bottom_neighbourhoods.plot(kind='bar', legend=False, color='#FF6347')\n",
        "\n",
        "plt.title(\"En Düşük Randevu Katılımına Sahip İlk 10 Mahalle\")\n",
        "plt.xlabel(\"Mahalle\")\n",
        "plt.ylabel(\"Toplam Randevu Katılım Sayısı\")\n",
        "plt.xticks(rotation=45)\n",
        "\n",
        "plt.ylim(0, bottom_neighbourhoods['Showed_up'].max() + 5)\n",
        "\n",
        "plt.show()"
      ],
      "metadata": {
        "colab": {
          "base_uri": "https://localhost:8080/",
          "height": 647
        },
        "id": "Hu-SIwSLyqVq",
        "outputId": "29ef8fb4-84de-48af-d353-69cc2f99c2ca"
      },
      "execution_count": null,
      "outputs": [
        {
          "output_type": "display_data",
          "data": {
            "text/plain": [
              "<Figure size 1200x800 with 0 Axes>"
            ]
          },
          "metadata": {}
        },
        {
          "output_type": "display_data",
          "data": {
            "text/plain": [
              "<Figure size 640x480 with 1 Axes>"
            ],
            "image/png": "[encoded data removed]"
          },
          "metadata": {}
        }
      ]
    },
    {
      "cell_type": "code",
      "source": [
        "plt.figure(figsize=(10, 6))\n",
        "sns.histplot(df['Age'], bins=30, kde=True, color = \"#FC8D62\")\n",
        "plt.title('Yaş Dağılımı')\n",
        "plt.xlabel('Yaş')\n",
        "plt.ylabel('Sayı')\n",
        "plt.tight_layout()\n",
        "plt.show()"
      ],
      "metadata": {
        "colab": {
          "base_uri": "https://localhost:8080/",
          "height": 607
        },
        "id": "fUlX4RWe1bNi",
        "outputId": "06b48ade-6560-4794-da5c-e863e90deaf7"
      },
      "execution_count": null,
      "outputs": [
        {
          "output_type": "display_data",
          "data": {
            "text/plain": [
              "<Figure size 1000x600 with 1 Axes>"
            ],
            "image/png": "[encoded data removed]"
          },
          "metadata": {}
        }
      ]
    },
    {
      "cell_type": "code",
      "source": [
        "df['Age_Group'] = pd.cut(df['Age'], bins=[0, 18, 35, 60, 100], labels=['Genç', 'Yetişkin', 'Orta Yaş', 'Yaşlı'])\n",
        "\n",
        "plt.figure(figsize=(10,6))\n",
        "sns.countplot(x='Age_Group', data=df, palette='Set2')\n",
        "plt.xlabel('Yaş Grubu')\n",
        "plt.ylabel('Count')\n",
        "plt.show()"
      ],
      "metadata": {
        "colab": {
          "base_uri": "https://localhost:8080/",
          "height": 629
        },
        "id": "VCJx3omcqTwI",
        "outputId": "6eba0b0e-b3ee-43a7-83ed-9b9d6f752058"
      },
      "execution_count": null,
      "outputs": [
        {
          "output_type": "stream",
          "name": "stderr",
          "text": [
            "<ipython-input-52-73270d02a0c6>:4: FutureWarning: \n",
            "\n",
            "Passing `palette` without assigning `hue` is deprecated and will be removed in v0.14.0. Assign the `x` variable to `hue` and set `legend=False` for the same effect.\n",
            "\n",
            "  sns.countplot(x='Age_Group', data=df, palette='Set2')\n"
          ]
        },
        {
          "output_type": "display_data",
          "data": {
            "text/plain": [
              "<Figure size 1000x600 with 1 Axes>"
            ],
            "image/png": "[encoded data removed]"
          },
          "metadata": {}
        }
      ]
    },
    {
      "cell_type": "markdown",
      "source": [
        "# ***HİPOTEZ TESTLERİ***"
      ],
      "metadata": {
        "id": "OMzE__io2gGH"
      }
    },
    {
      "cell_type": "markdown",
      "source": [
        "1. Randevuya gelip gelmeme ile yaş arasındaki ilişki;\n",
        "\n",
        "*   Hipotez: Yaş değişkeni ile randevu durumu arasında bir ilişki durumu.\n",
        "*   H0: Yaş değişkeni ile randevu durumu arasında anlamlı bir ilişki yoktur.\n",
        "\n",
        "*   H1: Yaş değişkeni ile randevu durumu arasında anlamlı bir ilişki vardır.\n",
        "*   Test: T-testi (Shapiro-Wilk) / Mann-Whitney U Testi\n",
        "\n",
        "\n",
        "\n",
        "\n",
        "  \n",
        "  \n",
        "  \n",
        "  "
      ],
      "metadata": {
        "id": "TLbPp1g02kru"
      }
    },
    {
      "cell_type": "code",
      "source": [
        "age_showed_up = df[df['Showed_up'] == True]['Age']\n",
        "age_no_show = df[df['Showed_up'] == False]['Age']\n",
        "\n",
        "print(\"age_showed_up length:\", len(age_showed_up))\n",
        "print(\"age_no_show length:\", len(age_no_show))"
      ],
      "metadata": {
        "colab": {
          "base_uri": "https://localhost:8080/"
        },
        "id": "nPhM5a6m9yDH",
        "outputId": "40ff5ae7-25c5-4eca-c769-ce6ed57fe01c"
      },
      "execution_count": null,
      "outputs": [
        {
          "output_type": "stream",
          "name": "stdout",
          "text": [
            "age_showed_up length: 85307\n",
            "age_no_show length: 21680\n"
          ]
        }
      ]
    },
    {
      "cell_type": "code",
      "source": [
        "stat_showed, p_showed = shapiro(age_showed_up)\n",
        "stat_no_show, p_no_show = shapiro(age_no_show)\n",
        "\n",
        "print(f\"Shapiro-Wilk Testi (Showed Up): Test Statistic = {stat_showed}, p-value = {p_showed}\")\n",
        "print(f\"Shapiro-Wilk Testi (No Show): Test Statistic = {stat_no_show}, p-value = {p_no_show}\")"
      ],
      "metadata": {
        "colab": {
          "base_uri": "https://localhost:8080/"
        },
        "id": "tGCGejd19lWD",
        "outputId": "adf7810f-2f50-4f42-c4ca-228fc6ba27c0"
      },
      "execution_count": null,
      "outputs": [
        {
          "output_type": "stream",
          "name": "stdout",
          "text": [
            "Shapiro-Wilk Testi (Showed Up): Test Statistic = 0.9725398034041428, p-value = 7.783387577488239e-77\n",
            "Shapiro-Wilk Testi (No Show): Test Statistic = 0.9711084273944766, p-value = 2.2262576092670994e-53\n"
          ]
        },
        {
          "output_type": "stream",
          "name": "stderr",
          "text": [
            "/usr/local/lib/python3.10/dist-packages/scipy/stats/_axis_nan_policy.py:531: UserWarning: scipy.stats.shapiro: For N > 5000, computed p-value may not be accurate. Current N is 85307.\n",
            "  res = hypotest_fun_out(*samples, **kwds)\n",
            "/usr/local/lib/python3.10/dist-packages/scipy/stats/_axis_nan_policy.py:531: UserWarning: scipy.stats.shapiro: For N > 5000, computed p-value may not be accurate. Current N is 21680.\n",
            "  res = hypotest_fun_out(*samples, **kwds)\n"
          ]
        }
      ]
    },
    {
      "cell_type": "markdown",
      "source": [
        "Shapiro-Wilk testi sonuçlarına göre, hem randevuya gelenlerin hem de gelmeyenlerin yaş verileri normal dağılıma uygun değildir (p-value < 0.05).\n",
        "Bu nedenle, normal dağılım varsayımına dayalı yöntemler yerine non-parametrik testler kullanılmalıdır.\n",
        "\n"
      ],
      "metadata": {
        "id": "m_JLgbapfTLD"
      }
    },
    {
      "cell_type": "code",
      "source": [
        "from scipy.stats import mannwhitneyu\n",
        "\n",
        "# Perform Mann-Whitney U Test\n",
        "stat_u, p_u = mannwhitneyu(age_showed_up, age_no_show)\n",
        "\n",
        "# Display the results\n",
        "print(f\"Mann-Whitney U Test: Test Statistic = {stat_u}, p-value = {p_u}\")\n"
      ],
      "metadata": {
        "colab": {
          "base_uri": "https://localhost:8080/"
        },
        "id": "I2Jd9STU-kH7",
        "outputId": "4b76bfdd-9046-4bd1-c807-029a592fd8f2"
      },
      "execution_count": null,
      "outputs": [
        {
          "output_type": "stream",
          "name": "stdout",
          "text": [
            "Mann-Whitney U Test: Test Statistic = 1015591109.0, p-value = 6.407426831780236e-111\n"
          ]
        }
      ]
    },
    {
      "cell_type": "markdown",
      "source": [
        "Mann-Whitney U testi sonuçlarına göre, randevuya gelenler ve gelmeyenler arasındaki yaşlar arasında anlamlı bir fark bulunmaktadır (p-value < 0.05).\n",
        "Test istatistiği (U = 1,015,591,109) oldukça yüksek bir değere sahip, bu da gruplar arasındaki farkın büyük olduğunu gösteriyor.\n",
        "Bu sonuç, randevuya gelme durumu ile yaşlar arasında istatistiksel olarak anlamlı bir ilişki olduğunu ortaya koymaktadır.\n",
        "H0 hipotezi reddedilmiştir."
      ],
      "metadata": {
        "id": "ILc2t5YWf1cV"
      }
    },
    {
      "cell_type": "markdown",
      "source": [
        "2. Cinsiyet ile randevu durumu arasındaki ilişki;\n",
        "\n",
        "*   Hipotez: Cinsiyet ile randevuya gelip gelmeme arasındaki ilişki.\n",
        "*   H0: Hastanın cinsiyeti ile randevu durumu arasında anlamlı bir ilişki yoktur.\n",
        "\n",
        "*   H1: Hastanın cinyiset durumu ile randevuya gelme yada gelmeme arasında anlamlı bir ilişki vardır.\n",
        "*   Test: Ki-Kare Testi\n",
        "\n",
        "\n",
        "\n"
      ],
      "metadata": {
        "id": "xpgUYtkRgBiG"
      }
    },
    {
      "cell_type": "code",
      "source": [
        "# Frekans tablosu oluşturma\n",
        "contingency_table = pd.crosstab(df['Gender'], df['Showed_up'])\n",
        "\n",
        "# Ki-Kare testi\n",
        "chi2, p, dof, expected = chi2_contingency(contingency_table)\n",
        "\n",
        "print(f\"Ki-Kare Değeri: {chi2}\")\n",
        "print(f\"P-değeri: {p}\")\n",
        "print(f\"Serbestlik Derecesi: {dof}\")\n",
        "print(f\"Beklenen Değerler Tablosu: \\n{expected}\")\n",
        "\n",
        "if p < 0.05:\n",
        "    print(\"H0 hipotezi reddedilir: Cinsiyet ile randevuya gelme durumu arasında anlamlı bir ilişki vardır.\")\n",
        "else:\n",
        "    print(\"H0 hipotezi kabul edilir: Cinsiyet ile randevuya gelme durumu arasında anlamlı bir ilişki yoktur.\")"
      ],
      "metadata": {
        "colab": {
          "base_uri": "https://localhost:8080/"
        },
        "id": "79fJPa9OjfAv",
        "outputId": "ebfcc26c-1058-41f1-8b78-c21dfc788673"
      },
      "execution_count": null,
      "outputs": [
        {
          "output_type": "stream",
          "name": "stdout",
          "text": [
            "Ki-Kare Değeri: 4.245533488546367\n",
            "P-değeri: 0.03935370355967199\n",
            "Serbestlik Derecesi: 1\n",
            "Beklenen Değerler Tablosu: \n",
            "[[ 9305.34036869 34588.65963131]\n",
            " [ 4977.65963131 18502.34036869]]\n",
            "H0 hipotezi reddedilir: Cinsiyet ile randevuya gelme durumu arasında anlamlı bir ilişki vardır.\n"
          ]
        }
      ]
    },
    {
      "cell_type": "markdown",
      "source": [
        "3. Mahalle ile randevu durumu arasındaki ilişki;\n",
        "\n",
        "*   Hipotez: Randevuya gelip gelmeme durumu ile mahalle bilgisi arasındaki ilişki.\n",
        "*   H0: Hastanın randevu durumu ile mahalle bilgisi arasında anlamlı bir ilişki yoktur.\n",
        "\n",
        "*   H1: Hastanın randevu durumu ile mahalle bilgisi arasında anlamlı bir ilişki vardır.\n",
        "*   Test: Ki-Kare Testi\n",
        "\n",
        "\n",
        "\n"
      ],
      "metadata": {
        "id": "AYqkZIyFmcQA"
      }
    },
    {
      "cell_type": "code",
      "source": [
        "# Frekans tablosu oluşturma\n",
        "contingency_table = pd.crosstab(df['Neighbourhood'], df['Showed_up'])\n",
        "\n",
        "# Ki-Kare testi\n",
        "chi2, p, dof, expected = chi2_contingency(contingency_table)\n",
        "\n",
        "print(f\"Ki-Kare Değeri: {chi2}\")\n",
        "print(f\"P-değeri: {p}\")\n",
        "print(f\"Serbestlik Derecesi: {dof}\")\n",
        "print(f\"Beklenen Değerler Tablosu: \\n{expected}\")\n",
        "\n",
        "if p < 0.05:\n",
        "    print(\"H0 hipotezi reddedilir: Mahalle bilgisi ile randevuya gelme durumu arasında anlamlı bir ilişki vardır.\")\n",
        "else:\n",
        "    print(\"H0 hipotezi kabul edilir: Mahalle bilgisi ile randevuya gelme durumu arasında anlamlı bir ilişki yoktur.\")"
      ],
      "metadata": {
        "colab": {
          "base_uri": "https://localhost:8080/"
        },
        "id": "lwoW5wkPl9at",
        "outputId": "09317c5e-278d-4913-e351-c3902026a99f"
      },
      "execution_count": null,
      "outputs": [
        {
          "output_type": "stream",
          "name": "stdout",
          "text": [
            "Ki-Kare Değeri: 366.8635220629782\n",
            "P-değeri: 1.1728333832531831e-38\n",
            "Serbestlik Derecesi: 79\n",
            "Beklenen Değerler Tablosu: \n",
            "[[1.05997863e+00 3.94002137e+00]\n",
            " [2.38919182e+02 8.88080818e+02]\n",
            " [3.90072135e+01 1.44992787e+02]\n",
            " [3.47672990e+01 1.29232701e+02]\n",
            " [3.39193161e+01 1.26080684e+02]\n",
            " [2.51214935e+02 9.33785065e+02]\n",
            " [1.22957521e+02 4.57042479e+02]\n",
            " [3.90072135e+01 1.44992787e+02]\n",
            " [2.14115683e+02 7.95884317e+02]\n",
            " [3.41949105e+02 1.27105090e+03]\n",
            " [4.24627438e+02 1.57837256e+03]\n",
            " [3.62512690e+01 1.34748731e+02]\n",
            " [8.62822602e+01 3.20717740e+02]\n",
            " [1.82528320e+02 6.78471680e+02]\n",
            " [2.06271841e+02 7.66728159e+02]\n",
            " [2.80894336e+02 1.04410566e+03]\n",
            " [4.43071066e+01 1.64692893e+02]\n",
            " [8.75542346e+01 3.25445765e+02]\n",
            " [5.53308843e+01 2.05669116e+02]\n",
            " [1.35465269e+02 5.03534731e+02]\n",
            " [3.13753674e+01 1.16624633e+02]\n",
            " [6.59306706e+01 2.45069329e+02]\n",
            " [6.21147475e+01 2.30885252e+02]\n",
            " [2.90222148e+02 1.07877785e+03]\n",
            " [3.87952177e+01 1.44204782e+02]\n",
            " [8.90382046e+01 3.30961795e+02]\n",
            " [1.31861341e+02 4.90138659e+02]\n",
            " [2.94038071e+02 1.09296193e+03]\n",
            " [2.67114614e+01 9.92885386e+01]\n",
            " [8.54342773e+01 3.17565723e+02]\n",
            " [2.74110473e+02 1.01888953e+03]\n",
            " [5.93588031e+00 2.20641197e+01]\n",
            " [6.35987176e-01 2.36401282e+00]\n",
            " [3.34529255e+02 1.24347075e+03]\n",
            " [4.23991451e-01 1.57600855e+00]\n",
            " [1.34829281e+02 5.01170719e+02]\n",
            " [1.92916110e+02 7.17083890e+02]\n",
            " [3.77140395e+02 1.40185960e+03]\n",
            " [9.91927999e+02 3.68707200e+03]\n",
            " [5.49916912e+02 2.04408309e+03]\n",
            " [4.40951109e+02 1.63904889e+03]\n",
            " [1.96944029e+02 7.32055971e+02]\n",
            " [1.10025781e+02 4.08974219e+02]\n",
            " [8.25723350e+02 3.06927665e+03]\n",
            " [2.75806439e+02 1.02519356e+03]\n",
            " [8.52222816e+01 3.16777718e+02]\n",
            " [1.17021640e+02 4.34978360e+02]\n",
            " [9.96379909e+00 3.70362009e+01]\n",
            " [4.51550895e+01 1.67844910e+02]\n",
            " [1.78076409e+01 6.61923591e+01]\n",
            " [2.18355597e+02 8.11644403e+02]\n",
            " [1.18081619e+02 4.38918381e+02]\n",
            " [5.46948971e+01 2.03305103e+02]\n",
            " [9.53980764e+00 3.54601924e+01]\n",
            " [7.08065723e+01 2.63193428e+02]\n",
            " [1.71504542e+02 6.37495458e+02]\n",
            " [2.05635854e+02 7.64364146e+02]\n",
            " [9.85780123e+01 3.66421988e+02]\n",
            " [6.59730697e+02 2.45226930e+03]\n",
            " [3.26897408e+02 1.21510259e+03]\n",
            " [6.93226022e+01 2.57677398e+02]\n",
            " [8.01343842e+01 2.97865616e+02]\n",
            " [2.50154956e+01 9.29845044e+01]\n",
            " [2.52274913e+01 9.37725087e+01]\n",
            " [4.15511622e+01 1.54448838e+02]\n",
            " [3.97491985e+02 1.47750801e+03]\n",
            " [2.00759952e+02 7.46240048e+02]\n",
            " [3.70992519e+02 1.37900748e+03]\n",
            " [3.53820866e+02 1.31517913e+03]\n",
            " [1.95460059e+02 7.26539941e+02]\n",
            " [4.07031793e+01 1.51296821e+02]\n",
            " [2.24715469e+01 8.35284531e+01]\n",
            " [6.84746193e+01 2.54525381e+02]\n",
            " [1.99275982e+02 7.40724018e+02]\n",
            " [2.45067059e+02 9.10932941e+02]\n",
            " [2.90222148e+02 1.07877785e+03]\n",
            " [1.93552097e+02 7.19447903e+02]\n",
            " [4.13603660e+02 1.53739634e+03]\n",
            " [1.97156025e+01 7.32843975e+01]\n",
            " [1.37373230e+02 5.10626770e+02]]\n",
            "H0 hipotezi reddedilir: Mahalle bilgisi ile randevuya gelme durumu arasında anlamlı bir ilişki vardır.\n"
          ]
        }
      ]
    },
    {
      "cell_type": "markdown",
      "source": [
        "4. Hipertansiyon ile randevu durumu arasındaki ilişki;\n",
        "\n",
        "*   Hipotez: Hastanın hipertansiyon olması ile randevu durumu ilişkisi.\n",
        "*   H0: Hastanın randevuya gelip gelmeme durumu ile hipertansiyon hastası olma arasında anlamlı bir ilişki yoktur.\n",
        "\n",
        "*   H1: Hastanın randevuya gelip gelmeme durumu ile hipertansiyon hastası olma arasında anlamlı bir ilişki vardır.\n",
        "*   Test: Ki-Kare Testi\n",
        "\n",
        "\n",
        "\n"
      ],
      "metadata": {
        "id": "5ug84J2CnnEz"
      }
    },
    {
      "cell_type": "code",
      "source": [
        "# Frekans tablosu oluşturma\n",
        "contingency_table = pd.crosstab(df['Hipertension'], df['Showed_up'])\n",
        "\n",
        "# Ki-Kare testi\n",
        "chi2, p, dof, expected = chi2_contingency(contingency_table)\n",
        "\n",
        "print(f\"Ki-Kare Değeri: {chi2}\")\n",
        "print(f\"P-değeri: {p}\")\n",
        "print(f\"Serbestlik Derecesi: {dof}\")\n",
        "print(f\"Beklenen Değerler Tablosu: \\n{expected}\")\n",
        "\n",
        "if p < 0.05:\n",
        "    print(\"H0 hipotezi reddedilir: Hipertansiyon ile randevuya gelme durumu arasında anlamlı bir ilişki vardır.\")\n",
        "else:\n",
        "    print(\"H0 hipotezi kabul edilir: Hipertansiyon ile randevuya gelme durumu arasında anlamlı bir ilişki yoktur.\")"
      ],
      "metadata": {
        "colab": {
          "base_uri": "https://localhost:8080/"
        },
        "id": "KbIVwE_YoBaz",
        "outputId": "766675f8-8978-4ba8-e41e-076166c64a92"
      },
      "execution_count": null,
      "outputs": [
        {
          "output_type": "stream",
          "name": "stdout",
          "text": [
            "Ki-Kare Değeri: 90.1741374154669\n",
            "P-değeri: 2.1809438706719136e-21\n",
            "Serbestlik Derecesi: 1\n",
            "Beklenen Değerler Tablosu: \n",
            "[[11479.35653219 42669.64346781]\n",
            " [ 2803.64346781 10421.35653219]]\n",
            "H0 hipotezi reddedilir: Hipertansiyon ile randevuya gelme durumu arasında anlamlı bir ilişki vardır.\n"
          ]
        }
      ]
    },
    {
      "cell_type": "markdown",
      "source": [
        "5. Diyabet ile randevu durumu arasındaki ilişki;\n",
        "\n",
        "*   Hipotez: Hastanın diyabet olması ile randevu durumu ilişkisi.\n",
        "*   H0: Hastanın randevuya gelip gelmeme durumu ile diyabet hastası olma arasında anlamlı bir ilişki yoktur.\n",
        "\n",
        "*   H1: Hastanın randevuya gelip gelmeme durumu ile diyabet hastası olma arasında anlamlı bir ilişki vardır.\n",
        "*   Test: Ki-Kare Testi\n",
        "\n",
        "\n",
        "\n",
        "\n"
      ],
      "metadata": {
        "id": "9pGidzwrol_8"
      }
    },
    {
      "cell_type": "code",
      "source": [
        "# Frekans tablosu oluşturma\n",
        "contingency_table = pd.crosstab(df['Diabetes'], df['Showed_up'])\n",
        "\n",
        "# Ki-Kare testi\n",
        "chi2, p, dof, expected = chi2_contingency(contingency_table)\n",
        "\n",
        "print(f\"Ki-Kare Değeri: {chi2}\")\n",
        "print(f\"P-değeri: {p}\")\n",
        "print(f\"Serbestlik Derecesi: {dof}\")\n",
        "print(f\"Beklenen Değerler Tablosu: \\n{expected}\")\n",
        "\n",
        "if p < 0.05:\n",
        "    print(\"H0 hipotezi reddedilir: Diyabet ile randevuya gelme durumu arasında anlamlı bir ilişki vardır.\")\n",
        "else:\n",
        "    print(\"H0 hipotezi kabul edilir: Diyabet ile randevuya gelme durumu arasında anlamlı bir ilişki yoktur.\")"
      ],
      "metadata": {
        "colab": {
          "base_uri": "https://localhost:8080/"
        },
        "id": "w5Zo7HwzpGvr",
        "outputId": "630872ec-bf53-495c-eed9-f4b5dcddfb7d"
      },
      "execution_count": null,
      "outputs": [
        {
          "output_type": "stream",
          "name": "stdout",
          "text": [
            "Ki-Kare Değeri: 17.25683343284983\n",
            "P-değeri: 3.2652108300837514e-05\n",
            "Serbestlik Derecesi: 1\n",
            "Beklenen Değerler Tablosu: \n",
            "[[13289.37603527 49397.62396473]\n",
            " [  993.62396473  3693.37603527]]\n",
            "H0 hipotezi reddedilir: Diyabet ile randevuya gelme durumu arasında anlamlı bir ilişki vardır.\n"
          ]
        }
      ]
    },
    {
      "cell_type": "markdown",
      "source": [
        "6. Alkol Bağımlılığı ile randevu durumu arasındaki ilişki;\n",
        "\n",
        "*   Hipotez: Hastanın alkol bağımlısı olması ile randevu durumu ilişkisi.\n",
        "*   H0: Hastanın randevuya gelip gelmeme durumu ile alkol bağımlısı olma arasında anlamlı bir ilişki yoktur.\n",
        "\n",
        "*   H1: Hastanın randevuya gelip gelmeme durumu ile alkol bağımlısı olma arasında anlamlı bir ilişki vardır.\n",
        "*   Test: Ki-Kare Testi / Logistik Regresyon\n",
        "\n",
        "\n",
        "\n"
      ],
      "metadata": {
        "id": "aHrvhOFype5J"
      }
    },
    {
      "cell_type": "code",
      "source": [
        "# Frekans tablosu oluşturma\n",
        "contingency_table = pd.crosstab(df['Alcoholism'], df['Showed_up'])\n",
        "\n",
        "# Ki-Kare testi\n",
        "chi2, p, dof, expected = chi2_contingency(contingency_table)\n",
        "\n",
        "print(f\"Ki-Kare Değeri: {chi2}\")\n",
        "print(f\"P-değeri: {p}\")\n",
        "print(f\"Serbestlik Derecesi: {dof}\")\n",
        "print(f\"Beklenen Değerler Tablosu: \\n{expected}\")\n",
        "\n",
        "if p < 0.05:\n",
        "    print(\"H0 hipotezi reddedilir: Alkol bağımlılığı ile randevuya gelme durumu arasında anlamlı bir ilişki vardır.\")\n",
        "else:\n",
        "    print(\"H0 hipotezi kabul edilir: Alkol bağımlılığı ile randevuya gelme durumu arasında anlamlı bir ilişki yoktur.\")"
      ],
      "metadata": {
        "colab": {
          "base_uri": "https://localhost:8080/"
        },
        "id": "lCpsx5w2qLlt",
        "outputId": "0894e103-a245-4d84-c3af-9427dd18c4ed"
      },
      "execution_count": null,
      "outputs": [
        {
          "output_type": "stream",
          "name": "stdout",
          "text": [
            "Ki-Kare Değeri: 1.14945626697936\n",
            "P-değeri: 0.2836630008966724\n",
            "Serbestlik Derecesi: 1\n",
            "Beklenen Değerler Tablosu: \n",
            "[[13835.6890195 51428.3109805]\n",
            " [  447.3109805  1662.6890195]]\n",
            "H0 hipotezi kabul edilir: Alkol bağımlılığı ile randevuya gelme durumu arasında anlamlı bir ilişki yoktur.\n"
          ]
        }
      ]
    },
    {
      "cell_type": "code",
      "source": [
        "df = df.dropna(subset=['Alcoholism'])\n",
        "df['Alcoholism'] = df['Alcoholism'].astype(int)\n",
        "df['Showed_up'] = df['Showed_up'].astype(int)\n",
        "\n",
        "X = df[['Alcoholism']]\n",
        "X = sm.add_constant(X)\n",
        "y = df['Showed_up']\n",
        "\n",
        "model = sm.Logit(y, X)\n",
        "result = model.fit()\n",
        "\n",
        "print(result.summary())\n",
        "\n",
        "p_value = result.pvalues['Alcoholism']\n",
        "if p_value < 0.05:\n",
        "    print(\"H0 hipotezi reddedilir: Alkol bağımlılığı ile randevuya gelme durumu arasında anlamlı bir ilişki vardır.\")\n",
        "else:\n",
        "    print(\"H0 hipotezi kabul edilir: Alkol bağımlılığı ile randevuya gelme durumu arasında anlamlı bir ilişki yoktur.\")\n"
      ],
      "metadata": {
        "colab": {
          "base_uri": "https://localhost:8080/"
        },
        "id": "yJ6aRREHqvnk",
        "outputId": "5d4b4e20-890b-4453-bc5f-c2c823514d7b"
      },
      "execution_count": null,
      "outputs": [
        {
          "output_type": "stream",
          "name": "stdout",
          "text": [
            "Optimization terminated successfully.\n",
            "         Current function value: 0.516580\n",
            "         Iterations 5\n",
            "                           Logit Regression Results                           \n",
            "==============================================================================\n",
            "Dep. Variable:              Showed_up   No. Observations:                67374\n",
            "Model:                          Logit   Df Residuals:                    67372\n",
            "Method:                           MLE   Df Model:                            1\n",
            "Date:                Mon, 25 Nov 2024   Pseudo R-squ.:               1.755e-05\n",
            "Time:                        09:37:51   Log-Likelihood:                -34804.\n",
            "converged:                       True   LL-Null:                       -34805.\n",
            "Covariance Type:            nonrobust   LLR p-value:                    0.2691\n",
            "==============================================================================\n",
            "                 coef    std err          z      P>|z|      [0.025      0.975]\n",
            "------------------------------------------------------------------------------\n",
            "const          1.3111      0.010    136.970      0.000       1.292       1.330\n",
            "Alcoholism     0.0605      0.055      1.099      0.272      -0.047       0.168\n",
            "==============================================================================\n",
            "H0 hipotezi kabul edilir: Alkol bağımlılığı ile randevuya gelme durumu arasında anlamlı bir ilişki yoktur.\n"
          ]
        }
      ]
    },
    {
      "cell_type": "markdown",
      "source": [
        "7. Engel durumu ile randevu gelip gelmeme ilişkisi;\n",
        "\n",
        "*   Hipotez: Hastanın engel durumunun bulunması ile randevuya gelip gelmeme arasındaki ilişki.\n",
        "*   H0: Hastanın engel durumu ile randevuya gelip gelmeme arasında anlamlı bir ilişki yoktur.\n",
        "\n",
        "*   H1: Hastanın engel durumu ile randevuya gelip gelmeme arasında anlamlı bir ilişki vardır.\n",
        "*   Test: Ki-Kare Testi\n",
        "\n",
        "\n",
        "\n"
      ],
      "metadata": {
        "id": "P1Ybp7ha8SKb"
      }
    },
    {
      "cell_type": "code",
      "source": [
        "# Frekans tablosu oluşturma\n",
        "contingency_table = pd.crosstab(df['Handcap'], df['Showed_up'])\n",
        "\n",
        "# Ki-Kare testi\n",
        "chi2, p, dof, expected = chi2_contingency(contingency_table)\n",
        "\n",
        "print(f\"Ki-Kare Değeri: {chi2}\")\n",
        "print(f\"P-değeri: {p}\")\n",
        "print(f\"Serbestlik Derecesi: {dof}\")\n",
        "print(f\"Beklenen Değerler Tablosu: \\n{expected}\")\n",
        "\n",
        "if p < 0.05:\n",
        "    print(\"H0 hipotezi reddedilir: Hastanın engel durumu ile randevuya gelme durumu arasında anlamlı bir ilişki vardır.\")\n",
        "else:\n",
        "    print(\"H0 hipotezi kabul edilir: Hastanın engel durumu ile randevuya gelme durumu arasında anlamlı bir ilişki yoktur.\")"
      ],
      "metadata": {
        "id": "aCITp1zKsW9c",
        "colab": {
          "base_uri": "https://localhost:8080/"
        },
        "outputId": "1a763b5f-3a8f-46d2-9d8a-419ca6869339"
      },
      "execution_count": null,
      "outputs": [
        {
          "output_type": "stream",
          "name": "stdout",
          "text": [
            "Ki-Kare Değeri: 6.080096103877427\n",
            "P-değeri: 0.013671333314443451\n",
            "Serbestlik Derecesi: 1\n",
            "Beklenen Değerler Tablosu: \n",
            "[[21226.08316898 83520.91683102]\n",
            " [  453.91683102  1786.08316898]]\n",
            "H0 hipotezi reddedilir: Hastanın engel durumu ile randevuya gelme durumu arasında anlamlı bir ilişki vardır.\n"
          ]
        }
      ]
    },
    {
      "cell_type": "markdown",
      "source": [
        "8. Hastanın sağlık yardımı alması ile randevu durumu arasındaki ilişki;\n",
        "\n",
        "*   Hipotez: Hastanın randevu durumu ile sağlık yardımı ilişkisi.\n",
        "*   H0: Hastanın sağlık yardımı alması ile randevuya gelip gelmemesi arasında anlamlı bir ilişki yoktur.\n",
        "\n",
        "*   H1: Hastının sağlık yardımı alması ile randevuya gelip gelmemesi arasında anlamlı bir ilişki vardır.\n",
        "*   Test: Ki-Kare Testi\n",
        "\n",
        "\n",
        "\n"
      ],
      "metadata": {
        "id": "yGNmqWWk9NlN"
      }
    },
    {
      "cell_type": "code",
      "source": [
        "# Frekans tablosu oluşturma\n",
        "contingency_table = pd.crosstab(df['Scholarship'], df['Showed_up'])\n",
        "\n",
        "# Ki-Kare testi\n",
        "chi2, p, dof, expected = chi2_contingency(contingency_table)\n",
        "\n",
        "print(f\"Ki-Kare Değeri: {chi2}\")\n",
        "print(f\"P-değeri: {p}\")\n",
        "print(f\"Serbestlik Derecesi: {dof}\")\n",
        "print(f\"Beklenen Değerler Tablosu: \\n{expected}\")\n",
        "\n",
        "if p < 0.05:\n",
        "    print(\"H0 hipotezi reddedilir: Hastanın sağlık bursu alması durumu ile randevuya gelme durumu arasında anlamlı bir ilişki vardır.\")\n",
        "else:\n",
        "    print(\"H0 hipotezi kabul edilir: Hastanın sağlık bursu alması durumu ile randevuya gelme durumu arasında anlamlı bir ilişki yoktur.\")"
      ],
      "metadata": {
        "colab": {
          "base_uri": "https://localhost:8080/"
        },
        "id": "tltY_zoF9pF-",
        "outputId": "e41baaab-da91-44ee-b1fb-9ae1ff7045e6"
      },
      "execution_count": null,
      "outputs": [
        {
          "output_type": "stream",
          "name": "stdout",
          "text": [
            "Ki-Kare Değeri: 92.04383938843907\n",
            "P-değeri: 8.47774514795202e-22\n",
            "Serbestlik Derecesi: 1\n",
            "Beklenen Değerler Tablosu: \n",
            "[[19489.6486489 76688.3513511]\n",
            " [ 2190.3513511  8618.6486489]]\n",
            "H0 hipotezi reddedilir: Hastanın sağlık bursu alması durumu ile randevuya gelme durumu arasında anlamlı bir ilişki vardır.\n"
          ]
        }
      ]
    },
    {
      "cell_type": "markdown",
      "source": [
        "9. SMS hatırlatması ile randevu durumu arasındaki ilişki;\n",
        "\n",
        "*   Hipotez: Hastaya randevu öncesinde gelen SMS hatırlatması ile randevuya gelip gelmeme arasındaki ilişki.\n",
        "*   H1: Hastaya gelen SMS hatırlatması ile randevu durumu arasında anlamlı bir ilişki yoktur.\n",
        "\n",
        "*   H1: Hastaya gelen SMS hatırlatması ile randevu durumu arasında anlamlı bir ilişki vardır.\n",
        "*   Test: Ki-Kare Testi\n",
        "\n",
        "\n",
        "\n"
      ],
      "metadata": {
        "id": "NzYUZ4mI-Khr"
      }
    },
    {
      "cell_type": "code",
      "source": [
        "# Frekans tablosu oluşturma\n",
        "contingency_table = pd.crosstab(df['SMS_received'], df['Showed_up'])\n",
        "\n",
        "# Ki-Kare testi\n",
        "chi2, p, dof, expected = chi2_contingency(contingency_table)\n",
        "\n",
        "print(f\"Ki-Kare Değeri: {chi2}\")\n",
        "print(f\"P-değeri: {p}\")\n",
        "print(f\"Serbestlik Derecesi: {dof}\")\n",
        "print(f\"Beklenen Değerler Tablosu: \\n{expected}\")\n",
        "\n",
        "if p < 0.05:\n",
        "    print(\"H0 hipotezi reddedilir: Hastanın SMS alması durumu ile randevuya gelme durumu arasında anlamlı bir ilişki vardır.\")\n",
        "else:\n",
        "    print(\"H0 hipotezi kabul edilir: Hastanın SMS alması durumu ile randevuya gelme durumu arasında anlamlı bir ilişki yoktur.\")"
      ],
      "metadata": {
        "colab": {
          "base_uri": "https://localhost:8080/"
        },
        "id": "v1pDsXoU-0l1",
        "outputId": "4ac756ec-dab5-4ffa-82d7-6808677a06de"
      },
      "execution_count": null,
      "outputs": [
        {
          "output_type": "stream",
          "name": "stdout",
          "text": [
            "Ki-Kare Değeri: 1731.8120940388308\n",
            "P-değeri: 0.0\n",
            "Serbestlik Derecesi: 1\n",
            "Beklenen Değerler Tablosu: \n",
            "[[14671.64571397 57730.35428603]\n",
            " [ 7008.35428603 27576.64571397]]\n",
            "H0 hipotezi reddedilir: Hastanın SMS alması durumu ile randevuya gelme durumu arasında anlamlı bir ilişki vardır.\n"
          ]
        }
      ]
    },
    {
      "cell_type": "markdown",
      "source": [
        "10. Hastanın randevu aldığı gün ile randevu günü arasındaki farkın randevu durumu ile ilişkisi;\n",
        "\n",
        "*   Hipotez: Hastanın hastane randevusu aldığı gün ile hastaneye gideceği gün arasındaki fark ile randevuya gelip gelmeme durumu üzerindeki ilişki.\n",
        "*   H0: Hastanın randevu aldığı gün ile randevu günü arasındaki farkın randevu durumu üzerinde bir etkisi yoktur.\n",
        "\n",
        "*   H1: Hastanın randevu aldığı gün ile randevu günü arasındaki farkın randevu durumu ile anlamlı bir ilişkisi vardır.\n",
        "*   Test: T-Testi\n",
        "\n",
        "\n",
        "\n"
      ],
      "metadata": {
        "id": "EcoT3DaZ_PQF"
      }
    },
    {
      "cell_type": "code",
      "source": [
        "df['Date.diff'] = pd.to_numeric(df['Date.diff'], errors='coerce')\n",
        "\n",
        "group_1 = df[df['Showed_up'] == 1]['Date.diff']\n",
        "group_2 = df[df['Showed_up'] == 0]['Date.diff']\n",
        "\n",
        "stat, p_value = ttest_ind(group_1, group_2)\n",
        "\n",
        "print(\"T-Testi Sonucu:\")\n",
        "print(f\"Test istatistiği: {stat}\")\n",
        "print(f\"P-değeri: {p_value}\")\n",
        "\n",
        "alpha = 0.05\n",
        "if p_value < alpha:\n",
        "    print(\"H0 reddedildi: Hastanın randevu aldığı gün ile randevu günü arasındaki fark, randevuya gidip gitmeme durumuyla anlamlı bir ilişkiye sahiptir.\")\n",
        "else:\n",
        "    print(\"H0 kabul edildi: Hastanın randevu aldığı gün ile randevu günü arasındaki fark, randevuya gidip gitmeme durumu üzerinde anlamlı bir etkiye sahip değildir.\")"
      ],
      "metadata": {
        "colab": {
          "base_uri": "https://localhost:8080/"
        },
        "id": "ejwineXs_zaK",
        "outputId": "2e3ffe0e-7f77-400d-8ef7-43203fa804b4"
      },
      "execution_count": null,
      "outputs": [
        {
          "output_type": "stream",
          "name": "stdout",
          "text": [
            "T-Testi Sonucu:\n",
            "Test istatistiği: -61.81623899171226\n",
            "P-değeri: 0.0\n",
            "H0 reddedildi: Hastanın randevu aldığı gün ile randevu günü arasındaki fark, randevuya gidip gitmeme durumuyla anlamlı bir ilişkiye sahiptir.\n"
          ]
        }
      ]
    },
    {
      "cell_type": "markdown",
      "source": [
        "# ***MODEL KURMAK İÇİN VERİ HAZIRLAMA***"
      ],
      "metadata": {
        "id": "rc2HdLMpBVOd"
      }
    },
    {
      "cell_type": "code",
      "source": [
        "df.drop([\"PatientId\", \"AppointmentID\"], axis=1, inplace=True)"
      ],
      "metadata": {
        "id": "SX5CSQl94L38"
      },
      "execution_count": 18,
      "outputs": []
    },
    {
      "cell_type": "code",
      "source": [
        "df[\"Gender\"] = df[\"Gender\"].map({\"F\": 0, \"M\": 1})"
      ],
      "metadata": {
        "id": "bTBCFsRT4PhS"
      },
      "execution_count": 19,
      "outputs": []
    },
    {
      "cell_type": "code",
      "source": [
        "df[\"ScheduledDay\"] = pd.to_datetime(df[\"ScheduledDay\"])\n",
        "df[\"AppointmentDay\"] = pd.to_datetime(df[\"AppointmentDay\"])"
      ],
      "metadata": {
        "id": "zt1RjbTA4SCv"
      },
      "execution_count": 20,
      "outputs": []
    },
    {
      "cell_type": "code",
      "source": [
        "df[\"DaysUntilAppointment\"] = (df[\"AppointmentDay\"] - df[\"ScheduledDay\"]).dt.days"
      ],
      "metadata": {
        "id": "axTOkYgt4VYQ"
      },
      "execution_count": 21,
      "outputs": []
    },
    {
      "cell_type": "code",
      "source": [
        "df[\"Neighbourhood\"] = df[\"Neighbourhood\"].astype(\"category\").cat.codes"
      ],
      "metadata": {
        "id": "4bInQjf94X6I"
      },
      "execution_count": 22,
      "outputs": []
    },
    {
      "cell_type": "code",
      "source": [
        "boolean_columns = [\"Scholarship\", \"Hipertension\", \"Diabetes\", \"Alcoholism\", \"Handcap\", \"SMS_received\", \"Showed_up\"]\n",
        "df[boolean_columns] = df[boolean_columns].astype(int)"
      ],
      "metadata": {
        "id": "rduek6UF4Yx2"
      },
      "execution_count": 23,
      "outputs": []
    },
    {
      "cell_type": "code",
      "source": [
        "df.drop([\"ScheduledDay\", \"AppointmentDay\"], axis=1, inplace=True)"
      ],
      "metadata": {
        "id": "0-K-JuS54ci7"
      },
      "execution_count": 24,
      "outputs": []
    },
    {
      "cell_type": "code",
      "source": [
        "y = df[[\"Showed_up\"]]\n",
        "x = df.drop(['Showed_up'], axis = 1)"
      ],
      "metadata": {
        "id": "WZeOhgDx2uV0"
      },
      "execution_count": 25,
      "outputs": []
    },
    {
      "cell_type": "code",
      "source": [
        "x_train, x_test, y_train, y_test = train_test_split(x,y, train_size=0.70, random_state=42)"
      ],
      "metadata": {
        "id": "PXZdySxc4muk"
      },
      "execution_count": 26,
      "outputs": []
    },
    {
      "cell_type": "code",
      "source": [
        "standart = StandardScaler()"
      ],
      "metadata": {
        "id": "Nasp-L6i5Q7g"
      },
      "execution_count": 27,
      "outputs": []
    },
    {
      "cell_type": "code",
      "source": [
        "x_train_scaler = standart.fit_transform(x_train)\n",
        "x_test_scaler = standart.transform(x_test)"
      ],
      "metadata": {
        "id": "abm0mKe45aM8"
      },
      "execution_count": 28,
      "outputs": []
    },
    {
      "cell_type": "code",
      "source": [
        "df.head(1)"
      ],
      "metadata": {
        "colab": {
          "base_uri": "https://localhost:8080/",
          "height": 81
        },
        "id": "SWjiZgWB6L2q",
        "outputId": "7bcd7e13-2d22-4c86-c60f-791a9561ab39"
      },
      "execution_count": 29,
      "outputs": [
        {
          "output_type": "execute_result",
          "data": {
            "text/plain": [
              "   Gender  Age  Neighbourhood  Scholarship  Hipertension  Diabetes  \\\n",
              "0       0   62             39            0             1         0   \n",
              "\n",
              "   Alcoholism  Handcap  SMS_received  Showed_up  Date.diff  \\\n",
              "0           0        0             0          1          0   \n",
              "\n",
              "   DaysUntilAppointment  \n",
              "0                     0  "
            ],
            "text/html": [
              "\n",
              "  <div id=\"df-fdcc398a-037f-4238-b20f-c79b9833015b\" class=\"colab-df-container\">\n",
              "    <div>\n",
              "<style scoped>\n",
              "    .dataframe tbody tr th:only-of-type {\n",
              "        vertical-align: middle;\n",
              "    }\n",
              "\n",
              "    .dataframe tbody tr th {\n",
              "        vertical-align: top;\n",
              "    }\n",
              "\n",
              "    .dataframe thead th {\n",
              "        text-align: right;\n",
              "    }\n",
              "</style>\n",
              "<table border=\"1\" class=\"dataframe\">\n",
              "  <thead>\n",
              "    <tr style=\"text-align: right;\">\n",
              "      <th></th>\n",
              "      <th>Gender</th>\n",
              "      <th>Age</th>\n",
              "      <th>Neighbourhood</th>\n",
              "      <th>Scholarship</th>\n",
              "      <th>Hipertension</th>\n",
              "      <th>Diabetes</th>\n",
              "      <th>Alcoholism</th>\n",
              "      <th>Handcap</th>\n",
              "      <th>SMS_received</th>\n",
              "      <th>Showed_up</th>\n",
              "      <th>Date.diff</th>\n",
              "      <th>DaysUntilAppointment</th>\n",
              "    </tr>\n",
              "  </thead>\n",
              "  <tbody>\n",
              "    <tr>\n",
              "      <th>0</th>\n",
              "      <td>0</td>\n",
              "      <td>62</td>\n",
              "      <td>39</td>\n",
              "      <td>0</td>\n",
              "      <td>1</td>\n",
              "      <td>0</td>\n",
              "      <td>0</td>\n",
              "      <td>0</td>\n",
              "      <td>0</td>\n",
              "      <td>1</td>\n",
              "      <td>0</td>\n",
              "      <td>0</td>\n",
              "    </tr>\n",
              "  </tbody>\n",
              "</table>\n",
              "</div>\n",
              "    <div class=\"colab-df-buttons\">\n",
              "\n",
              "  <div class=\"colab-df-container\">\n",
              "    <button class=\"colab-df-convert\" onclick=\"convertToInteractive('df-fdcc398a-037f-4238-b20f-c79b9833015b')\"\n",
              "            title=\"Convert this dataframe to an interactive table.\"\n",
              "            style=\"display:none;\">\n",
              "\n",
              "  <svg xmlns=\"http://www.w3.org/2000/svg\" height=\"24px\" viewBox=\"0 -960 960 960\">\n",
              "    <path d=\"M120-120v-720h720v720H120Zm60-500h600v-160H180v160Zm220 220h160v-160H400v160Zm0 220h160v-160H400v160ZM180-400h160v-160H180v160Zm440 0h160v-160H620v160ZM180-180h160v-160H180v160Zm440 0h160v-160H620v160Z\"/>\n",
              "  </svg>\n",
              "    </button>\n",
              "\n",
              "  <style>\n",
              "    .colab-df-container {\n",
              "      display:flex;\n",
              "      gap: 12px;\n",
              "    }\n",
              "\n",
              "    .colab-df-convert {\n",
              "      background-color: #E8F0FE;\n",
              "      border: none;\n",
              "      border-radius: 50%;\n",
              "      cursor: pointer;\n",
              "      display: none;\n",
              "      fill: #1967D2;\n",
              "      height: 32px;\n",
              "      padding: 0 0 0 0;\n",
              "      width: 32px;\n",
              "    }\n",
              "\n",
              "    .colab-df-convert:hover {\n",
              "      background-color: #E2EBFA;\n",
              "      box-shadow: 0px 1px 2px rgba(60, 64, 67, 0.3), 0px 1px 3px 1px rgba(60, 64, 67, 0.15);\n",
              "      fill: #174EA6;\n",
              "    }\n",
              "\n",
              "    .colab-df-buttons div {\n",
              "      margin-bottom: 4px;\n",
              "    }\n",
              "\n",
              "    [theme=dark] .colab-df-convert {\n",
              "      background-color: #3B4455;\n",
              "      fill: #D2E3FC;\n",
              "    }\n",
              "\n",
              "    [theme=dark] .colab-df-convert:hover {\n",
              "      background-color: #434B5C;\n",
              "      box-shadow: 0px 1px 3px 1px rgba(0, 0, 0, 0.15);\n",
              "      filter: drop-shadow(0px 1px 2px rgba(0, 0, 0, 0.3));\n",
              "      fill: #FFFFFF;\n",
              "    }\n",
              "  </style>\n",
              "\n",
              "    <script>\n",
              "      const buttonEl =\n",
              "        document.querySelector('#df-fdcc398a-037f-4238-b20f-c79b9833015b button.colab-df-convert');\n",
              "      buttonEl.style.display =\n",
              "        google.colab.kernel.accessAllowed ? 'block' : 'none';\n",
              "\n",
              "      async function convertToInteractive(key) {\n",
              "        const element = document.querySelector('#df-fdcc398a-037f-4238-b20f-c79b9833015b');\n",
              "        const dataTable =\n",
              "          await google.colab.kernel.invokeFunction('convertToInteractive',\n",
              "                                                    [key], {});\n",
              "        if (!dataTable) return;\n",
              "\n",
              "        const docLinkHtml = 'Like what you see? Visit the ' +\n",
              "          '<a target=\"_blank\" href=https://colab.research.google.com/notebooks/data_table.ipynb>data table notebook</a>'\n",
              "          + ' to learn more about interactive tables.';\n",
              "        element.innerHTML = '';\n",
              "        dataTable['output_type'] = 'display_data';\n",
              "        await google.colab.output.renderOutput(dataTable, element);\n",
              "        const docLink = document.createElement('div');\n",
              "        docLink.innerHTML = docLinkHtml;\n",
              "        element.appendChild(docLink);\n",
              "      }\n",
              "    </script>\n",
              "  </div>\n",
              "\n",
              "\n",
              "    </div>\n",
              "  </div>\n"
            ],
            "application/vnd.google.colaboratory.intrinsic+json": {
              "type": "dataframe",
              "variable_name": "df"
            }
          },
          "metadata": {},
          "execution_count": 29
        }
      ]
    },
    {
      "cell_type": "markdown",
      "source": [
        "# ***MODEL KURULMASI***"
      ],
      "metadata": {
        "id": "_XV0xknP6Asz"
      }
    },
    {
      "cell_type": "code",
      "source": [
        "param_grid = {\n",
        "    'C': [0.01, 0.1, 1, 10],\n",
        "    'solver': ['lbfgs', 'liblinear'],\n",
        "    'max_iter': [100, 200, 300]\n",
        "}\n",
        "                                                                                    #Logistic Regression\n",
        "start_train_time = time.time()\n",
        "lr = LogisticRegression()\n",
        "grid_search = GridSearchCV(estimator=lr, param_grid=param_grid, scoring='accuracy', cv=5, n_jobs=-1, verbose=1)\n",
        "grid_search.fit(x_train_scaler, y_train)\n",
        "end_train_time = time.time()\n",
        "\n",
        "best_model = grid_search.best_estimator_\n",
        "best_params = grid_search.best_params_\n",
        "total_train_time1 = end_train_time - start_train_time\n",
        "\n",
        "\n",
        "y_train_pred = best_model.predict(x_train_scaler)\n",
        "\n",
        "train_accuracy1 = accuracy_score(y_train, y_train_pred)\n",
        "train_f1_1 = f1_score(y_train, y_train_pred)\n",
        "train_recall1 = recall_score(y_train, y_train_pred)\n",
        "train_precision1 = precision_score(y_train, y_train_pred)\n",
        "train_confusion1 = confusion_matrix(y_train, y_train_pred)\n",
        "train_roc_auc1 = roc_auc_score(y_train, y_train_pred)\n",
        "train_log_loss1 = log_loss(y_train, y_train_pred)\n",
        "\n",
        "\n",
        "\n",
        "\n",
        "\n",
        "start_test_time = time.time()\n",
        "y_test_pred = best_model.predict(x_test_scaler)\n",
        "end_test_time = time.time()\n",
        "total_test_time1 = end_test_time - start_test_time\n",
        "\n",
        "test_accuracy1 = accuracy_score(y_test, y_test_pred)\n",
        "test_f1_1 = f1_score(y_test, y_test_pred)\n",
        "test_recall1 = recall_score(y_test, y_test_pred)\n",
        "test_precision1 = precision_score(y_test, y_test_pred)\n",
        "test_confusion1 = confusion_matrix(y_test, y_test_pred)\n",
        "test_roc_auc1 = roc_auc_score(y_test, y_test_pred)\n",
        "test_log_loss1 = log_loss(y_test, y_test_pred)\n",
        "\n",
        "\n",
        "\n",
        "\n",
        "print(f\"Best Parameters: {best_params}\")\n",
        "print(f\"Train Time : {total_train_time1}\")\n",
        "print(f\"Train Accuracy : {train_accuracy1}\")\n",
        "print(f\"Train F1 : {train_f1_1}\")\n",
        "print(f\"Train Recall : {train_recall1}\")\n",
        "print(f\"Train Precision : {train_precision1}\")\n",
        "print(f\"Train Confusion Matrix : {train_confusion1}\")\n",
        "print(f\"Train Roc Auc : {train_roc_auc1}\")\n",
        "print(f\"Train Log Loss : {train_log_loss1}\")\n",
        "print(\"------------------------------------------------------\")\n",
        "print(f\"Test Time : {total_test_time1}\")\n",
        "print(f\"Test Accuracy: {test_accuracy1}\")\n",
        "print(f\"Test F1 : {test_f1_1}\")\n",
        "print(f\"Test Recall : {test_recall1}\")\n",
        "print(f\"Test Precision : {test_precision1}\")\n",
        "print(f\"Test Confusion Matrix : {test_confusion1}\")\n",
        "print(f\"Test Roc Auc : {test_roc_auc1}\")\n",
        "print(f\"Test Log Loss : {test_log_loss1}\")"
      ],
      "metadata": {
        "colab": {
          "base_uri": "https://localhost:8080/"
        },
        "id": "VGJvBT779F3C",
        "outputId": "8a83bbfc-90c9-4ca3-8697-37728089ddab"
      },
      "execution_count": 33,
      "outputs": [
        {
          "output_type": "stream",
          "name": "stdout",
          "text": [
            "Fitting 5 folds for each of 24 candidates, totalling 120 fits\n",
            "Best Parameters: {'C': 0.01, 'max_iter': 100, 'solver': 'lbfgs'}\n",
            "Train Time : 15.116599082946777\n",
            "Train Accuracy : 0.7940980104152757\n",
            "Train F1 : 0.8847895279508674\n",
            "Train Recall : 0.9912445173602973\n",
            "Train Precision : 0.798982565984779\n",
            "Train Confusion Matrix : [[  259 14897]\n",
            " [  523 59211]]\n",
            "Train Roc Auc : 0.504166729516781\n",
            "Train Log Loss : 7.421459944721412\n",
            "------------------------------------------------------\n",
            "Test Time : 0.005601644515991211\n",
            "Test Accuracy: 0.7938436614013771\n",
            "Test F1 : 0.884662983040212\n",
            "Test Recall : 0.9923356665232863\n",
            "Test Precision : 0.7980690609472294\n",
            "Test Confusion Matrix : [[  103  6421]\n",
            " [  196 25377]]\n",
            "Test Roc Auc : 0.5040617633658736\n",
            "Test Log Loss : 7.430627612418238\n"
          ]
        }
      ]
    },
    {
      "cell_type": "code",
      "source": [
        "param_grid = {\n",
        "    'criterion': ['gini', 'entropy'],\n",
        "    'max_depth': [5, 10, 15],\n",
        "    'min_samples_split': [2, 5, 10],\n",
        "    'min_samples_leaf': [1, 2, 4],\n",
        "    'max_features': ['sqrt', 'log2'],\n",
        "    'class_weight': ['balanced'],\n",
        "    'ccp_alpha': [0.0, 0.01, 0.1]\n",
        "}                                                                                   #Decision Tree Classifier\n",
        "\n",
        "start_train_time = time.time()\n",
        "dc = DecisionTreeClassifier()\n",
        "grid_search = GridSearchCV(estimator= dc, param_grid=param_grid, scoring='accuracy', cv=5, n_jobs=-1, verbose=1)\n",
        "grid_search.fit(x_train_scaler, y_train)\n",
        "end_train_time = time.time()\n",
        "\n",
        "best_model2 = grid_search.best_estimator_\n",
        "best_params2 = grid_search.best_params_\n",
        "total_train_time2 = end_train_time - start_train_time\n",
        "\n",
        "y_tarin_pred = best_model2.predict(x_train_scaler)\n",
        "\n",
        "train_accuracy2 = accuracy_score(y_train, y_train_pred)\n",
        "train_f1_2 = f1_score(y_train, y_train_pred)\n",
        "train_recall2 = recall_score(y_train, y_train_pred)\n",
        "train_precision2 = precision_score(y_train, y_train_pred)\n",
        "train_confusion2 = confusion_matrix(y_train, y_train_pred)\n",
        "train_roc_auc2 = roc_auc_score(y_train, y_train_pred)\n",
        "train_log_loss2 = log_loss(y_train, y_train_pred)\n",
        "\n",
        "\n",
        "\n",
        "start_test_time = time.time()\n",
        "y_test_pred = best_model2.predict(x_test_scaler)\n",
        "end_test_time = time.time()\n",
        "total_test_time2 = end_test_time - start_test_time\n",
        "\n",
        "test_accuracy2 = accuracy_score(y_test, y_test_pred)\n",
        "test_f1_2 = f1_score(y_test, y_test_pred)\n",
        "test_recall2 = recall_score(y_test, y_test_pred)\n",
        "test_precision2 = precision_score(y_test, y_test_pred)\n",
        "test_confusion2 = confusion_matrix(y_test, y_test_pred)\n",
        "test_roc_auc2 = roc_auc_score(y_test, y_test_pred)\n",
        "test_log_loss2 = log_loss(y_test, y_test_pred)\n",
        "\n",
        "\n",
        "\n",
        "\n",
        "print(f\"Best Parameters: {best_params2}\")\n",
        "print(f\"Train Time : {total_train_time2}\")\n",
        "print(f\"Train Accuracy : {train_accuracy2}\")\n",
        "print(f\"Train F1 : {train_f1_2}\")\n",
        "print(f\"Train Recall : {train_recall2}\")\n",
        "print(f\"Train Precision : {train_precision2}\")\n",
        "print(f\"Train Confusion Matrix : {train_confusion2}\")\n",
        "print(f\"Train Roc Auc : {train_roc_auc2}\")\n",
        "print(f\"Train Log Loss : {train_log_loss2}\")\n",
        "print(\"------------------------------------------------------\")\n",
        "print(f\"Test Time : {total_test_time2}\")\n",
        "print(f\"Test Accuracy: {test_accuracy2}\")\n",
        "print(f\"Test F1 : {test_f1_2}\")\n",
        "print(f\"Test Recall : {test_recall2}\")\n",
        "print(f\"Test Precision : {test_precision2}\")\n",
        "print(f\"Test Confusion Matrix : {test_confusion2}\")\n",
        "print(f\"Test Roc Auc : {test_roc_auc2}\")\n",
        "print(f\"Test Log Loss : {test_log_loss2}\")"
      ],
      "metadata": {
        "colab": {
          "base_uri": "https://localhost:8080/"
        },
        "id": "rC3C5fHB-3BN",
        "outputId": "03fe94e8-11e3-4da2-cacf-d10ef4c40d59"
      },
      "execution_count": 34,
      "outputs": [
        {
          "output_type": "stream",
          "name": "stdout",
          "text": [
            "Fitting 5 folds for each of 324 candidates, totalling 1620 fits\n",
            "Best Parameters: {'ccp_alpha': 0.0, 'class_weight': 'balanced', 'criterion': 'gini', 'max_depth': 15, 'max_features': 'sqrt', 'min_samples_leaf': 1, 'min_samples_split': 2}\n",
            "Train Time : 211.56002044677734\n",
            "Train Accuracy : 0.7940980104152757\n",
            "Train F1 : 0.8847895279508674\n",
            "Train Recall : 0.9912445173602973\n",
            "Train Precision : 0.798982565984779\n",
            "Train Confusion Matrix : [[  259 14897]\n",
            " [  523 59211]]\n",
            "Train Roc Auc : 0.504166729516781\n",
            "Train Log Loss : 7.421459944721412\n",
            "------------------------------------------------------\n",
            "Test Time : 0.00617671012878418\n",
            "Test Accuracy: 0.6115213259806213\n",
            "Test F1 : 0.7062039065997502\n",
            "Test Recall : 0.5860086810307746\n",
            "Test Precision : 0.8884277922693858\n",
            "Test Confusion Matrix : [[ 4642  1882]\n",
            " [10587 14986]]\n",
            "Test Roc Auc : 0.6487676758924565\n",
            "Test Log Loss : 14.00219067541832\n"
          ]
        }
      ]
    },
    {
      "cell_type": "code",
      "source": [
        "param_grid = {\n",
        "    'n_estimators': [50, 100],\n",
        "    'max_depth': [None, 10],\n",
        "    'min_samples_split': [2, 5],\n",
        "    'min_samples_leaf': [1, 2],\n",
        "    'max_features': ['auto', 'sqrt'],\n",
        "    'bootstrap': [True],\n",
        "    'criterion': ['gini'],\n",
        "}                                                                                   #Random Forest Classifier\n",
        "\n",
        "start_train_time = time.time()\n",
        "rd = RandomForestClassifier()\n",
        "grid_search = GridSearchCV(estimator= rd, param_grid= param_grid, scoring='accuracy', cv=5, n_jobs=-1, verbose=1)\n",
        "grid_search.fit(x_train_scaler, y_train)\n",
        "end_train_time = time.time()\n",
        "\n",
        "best_model3 = grid_search.best_estimator_\n",
        "best_params3 = grid_search.best_params_\n",
        "total_train_time3 = end_train_time - start_train_time\n",
        "\n",
        "y_train_pred = best_model3.predict(x_train_scaler)\n",
        "\n",
        "train_accuracy3 = accuracy_score(y_train, y_train_pred)\n",
        "train_f1_3 = f1_score(y_train, y_train_pred)\n",
        "train_recall3 = recall_score(y_train, y_train_pred)\n",
        "train_precision3 = precision_score(y_train, y_train_pred)\n",
        "train_confusion3 = confusion_matrix(y_train, y_train_pred)\n",
        "train_roc_auc3 = roc_auc_score(y_train, y_train_pred)\n",
        "train_log_loss3 = log_loss(y_train, y_train_pred)\n",
        "\n",
        "\n",
        "start_test_time = time.time()\n",
        "y_test_pred = best_model3.predict(x_test_scaler)\n",
        "end_test_time = time.time()\n",
        "total_test_time3 = end_test_time - start_test_time\n",
        "\n",
        "test_accuracy3 = accuracy_score(y_test, y_test_pred)\n",
        "test_f1_3 = f1_score(y_test, y_test_pred)\n",
        "test_recall3 = recall_score(y_test, y_test_pred)\n",
        "test_precision3 = precision_score(y_test, y_test_pred)\n",
        "test_confusion3 = confusion_matrix(y_test, y_test_pred)\n",
        "test_roc_auc3 = roc_auc_score(y_test, y_test_pred)\n",
        "test_log_loss3 = log_loss(y_test, y_test_pred)\n",
        "\n",
        "\n",
        "\n",
        "\n",
        "print(f\"Best Parameters: {best_params3}\")\n",
        "print(f\"Train Time : {total_train_time3}\")\n",
        "print(f\"Train Accuracy : {train_accuracy3}\")\n",
        "print(f\"Train F1 : {train_f1_3}\")\n",
        "print(f\"Train Recall : {train_recall3}\")\n",
        "print(f\"Train Precision : {train_precision3}\")\n",
        "print(f\"Train Confusion Matrix : {train_confusion3}\")\n",
        "print(f\"Train Roc Auc : {train_roc_auc3}\")\n",
        "print(f\"Train Log Loss : {train_log_loss3}\")\n",
        "print(\"------------------------------------------------------\")\n",
        "print(f\"Test Time : {total_test_time3}\")\n",
        "print(f\"Test Accuracy: {test_accuracy3}\")\n",
        "print(f\"Test F1 : {test_f1_3}\")\n",
        "print(f\"Test Recall : {test_recall3}\")\n",
        "print(f\"Test Precision : {test_precision3}\")\n",
        "print(f\"Test Confusion Matrix : {test_confusion3}\")\n",
        "print(f\"Test Roc Auc : {test_roc_auc3}\")\n",
        "print(f\"Test Log Loss : {test_log_loss3}\")"
      ],
      "metadata": {
        "colab": {
          "base_uri": "https://localhost:8080/"
        },
        "id": "v5St7oTIAxWG",
        "outputId": "385ec786-3ec6-4854-a1a6-aa663e6c6d2f"
      },
      "execution_count": 35,
      "outputs": [
        {
          "output_type": "stream",
          "name": "stdout",
          "text": [
            "Fitting 5 folds for each of 32 candidates, totalling 160 fits\n",
            "Best Parameters: {'bootstrap': True, 'criterion': 'gini', 'max_depth': 10, 'max_features': 'sqrt', 'min_samples_leaf': 2, 'min_samples_split': 2, 'n_estimators': 50}\n",
            "Train Time : 280.0994350910187\n",
            "Train Accuracy : 0.7998798237414875\n",
            "Train F1 : 0.8885152978107728\n",
            "Train Recall : 0.9997991093849399\n",
            "Train Precision : 0.7995234079012544\n",
            "Train Confusion Matrix : [[  181 14975]\n",
            " [   12 59722]]\n",
            "Train Roc Auc : 0.5058707872076454\n",
            "Train Log Loss : 7.213062269230854\n",
            "------------------------------------------------------\n",
            "Test Time : 0.1914370059967041\n",
            "Test Accuracy: 0.7970838396111786\n",
            "Test F1 : 0.8869368978387293\n",
            "Test Recall : 0.9989441989598404\n",
            "Test Precision : 0.797514985014985\n",
            "Test Confusion Matrix : [[   38  6486]\n",
            " [   27 25546]]\n",
            "Test Roc Auc : 0.5023844232076946\n",
            "Test Log Loss : 7.3138397521051814\n"
          ]
        }
      ]
    },
    {
      "cell_type": "code",
      "source": [
        "import matplotlib.ticker as mtick\n",
        "models = ['Logistic Regression', 'Decision Tree Classifier', 'Random Forest Classifier']\n",
        "training_times = [total_train_time1, total_train_time2, total_train_time3]\n",
        "f1_score = [train_f1_1, train_f1_2, train_f1_3]\n",
        "\n",
        "sorted_indices = np.argsort(f1_score)[::-1]\n",
        "models = [models[i] for i in sorted_indices]\n",
        "training_times = [training_times[i] for i in sorted_indices]\n",
        "f1_score = [f1_score[i] for i in sorted_indices]\n",
        "\n",
        "fig, ax1 = plt.subplots(figsize=(17, 6))\n",
        "\n",
        "ax1.bar(models, training_times, color='skyblue')\n",
        "ax1.set_xlabel('Modeller', color = 'blue')\n",
        "ax1.set_ylabel('Eğitim Süresi (Saniye)', color='blue')\n",
        "ax1.tick_params(axis='y', labelcolor='blue')\n",
        "\n",
        "ax2 = ax1.twinx()\n",
        "\n",
        "ax2.plot(models, f1_score, color='red', marker='o', label='Diğer Modeller', markerfacecolor='red')\n",
        "\n",
        "linear_index = models.index('Random Forest Classifier')\n",
        "ax2.plot(models[linear_index], f1_score[linear_index], color='red', marker='*', markersize=12, label='Linear Model')\n",
        "\n",
        "ax2.set_ylabel('f1_score', color='red')\n",
        "ax2.tick_params(axis='y', labelcolor='red')\n",
        "\n",
        "ax2.yaxis.set_major_formatter(mtick.FuncFormatter(lambda x, _: f'{x:.3f}'))\n",
        "\n",
        "plt.show()"
      ],
      "metadata": {
        "colab": {
          "base_uri": "https://localhost:8080/",
          "height": 525
        },
        "id": "2wd8v3l4W4_e",
        "outputId": "7ff77b13-0183-40c7-e9ac-9dd0c2081ce0"
      },
      "execution_count": 44,
      "outputs": [
        {
          "output_type": "display_data",
          "data": {
            "text/plain": [
              "<Figure size 1700x600 with 2 Axes>"
            ],
            "image/png": "[encoded data removed]"
          },
          "metadata": {}
        }
      ]
    },
    {
      "cell_type": "code",
      "source": [
        "models = ['Logistic Regression', 'Decision Tree Classifier', 'Random Forest Classifier']\n",
        "testing_times = [total_train_time1, total_train_time2, total_train_time3]\n",
        "f1_score = [test_f1_1, test_f1_2, test_f1_3]\n",
        "\n",
        "sorted_indices = np.argsort(f1_score)[::-1]\n",
        "models = [models[i] for i in sorted_indices]\n",
        "training_times = [training_times[i] for i in sorted_indices]\n",
        "f1_score = [f1_score[i] for i in sorted_indices]\n",
        "\n",
        "fig, ax1 = plt.subplots(figsize=(17, 6))\n",
        "\n",
        "ax1.bar(models, testing_times, color='lightgreen')\n",
        "ax1.set_xlabel('Modeller', color= 'green')\n",
        "ax1.set_ylabel('Test Süresi (Saniye)', color='green')\n",
        "ax1.tick_params(axis='y', labelcolor='green')\n",
        "\n",
        "ax2 = ax1.twinx()\n",
        "\n",
        "ax2.plot(models, f1_score, color='red', marker='o', label='Diğer Modeller', markerfacecolor='red')\n",
        "\n",
        "linear_index = models.index('Random Forest Classifier')\n",
        "ax2.plot(models[linear_index], f1_score[linear_index], color='red', marker='*', markersize=12, label='Linear Model')\n",
        "\n",
        "ax2.set_ylabel('f1_score', color='red')\n",
        "ax2.tick_params(axis='y', labelcolor='red')\n",
        "\n",
        "ax2.yaxis.set_major_formatter(mtick.FuncFormatter(lambda x, _: f'{x:.3f}'))\n",
        "\n",
        "plt.show()"
      ],
      "metadata": {
        "colab": {
          "base_uri": "https://localhost:8080/",
          "height": 525
        },
        "id": "UUP2_24jbMZz",
        "outputId": "71837e5b-bc36-4846-bbcf-243c78948872"
      },
      "execution_count": 46,
      "outputs": [
        {
          "output_type": "display_data",
          "data": {
            "text/plain": [
              "<Figure size 1700x600 with 2 Axes>"
            ],
            "image/png": "[encoded data removed]"
          },
          "metadata": {}
        }
      ]
    }
  ]
}